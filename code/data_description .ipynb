{
 "cells": [
  {
   "cell_type": "code",
   "execution_count": 1,
   "metadata": {},
   "outputs": [],
   "source": [
    "import numpy as np\n",
    "import pandas as pd\n",
    "import seaborn as sns\n",
    "import matplotlib.pyplot as plt\n",
    "from sklearn.preprocessing import OneHotEncoder"
   ]
  },
  {
   "cell_type": "code",
   "execution_count": 2,
   "metadata": {},
   "outputs": [],
   "source": [
    "from IPython.core.interactiveshell import InteractiveShell\n",
    "InteractiveShell.ast_node_interactivity = 'all'"
   ]
  },
  {
   "cell_type": "code",
   "execution_count": 3,
   "metadata": {},
   "outputs": [],
   "source": [
    "df = pd.read_table('/Users/charlottewang/Desktop/code/data.csv', sep=',')"
   ]
  },
  {
   "cell_type": "code",
   "execution_count": 4,
   "metadata": {},
   "outputs": [
    {
     "data": {
      "text/html": [
       "<div>\n",
       "<style scoped>\n",
       "    .dataframe tbody tr th:only-of-type {\n",
       "        vertical-align: middle;\n",
       "    }\n",
       "\n",
       "    .dataframe tbody tr th {\n",
       "        vertical-align: top;\n",
       "    }\n",
       "\n",
       "    .dataframe thead th {\n",
       "        text-align: right;\n",
       "    }\n",
       "</style>\n",
       "<table border=\"1\" class=\"dataframe\">\n",
       "  <thead>\n",
       "    <tr style=\"text-align: right;\">\n",
       "      <th></th>\n",
       "      <th>VS0073</th>\n",
       "      <th>SCS235</th>\n",
       "      <th>VS0074</th>\n",
       "      <th>SCS236</th>\n",
       "      <th>SCS238</th>\n",
       "      <th>VS0075</th>\n",
       "      <th>VS0076</th>\n",
       "      <th>SCS239</th>\n",
       "      <th>VS0077</th>\n",
       "      <th>SCS240</th>\n",
       "      <th>...</th>\n",
       "      <th>VS0036</th>\n",
       "      <th>VS0037</th>\n",
       "      <th>VS0041</th>\n",
       "      <th>VS0043</th>\n",
       "      <th>VS0044</th>\n",
       "      <th>VS0050</th>\n",
       "      <th>VS0051</th>\n",
       "      <th>VS0053</th>\n",
       "      <th>SCS230</th>\n",
       "      <th>SCS231</th>\n",
       "    </tr>\n",
       "  </thead>\n",
       "  <tbody>\n",
       "    <tr>\n",
       "      <th>0</th>\n",
       "      <td>NaN</td>\n",
       "      <td>(02) No</td>\n",
       "      <td>NaN</td>\n",
       "      <td>(02) No</td>\n",
       "      <td>(02) No</td>\n",
       "      <td>NaN</td>\n",
       "      <td>NaN</td>\n",
       "      <td>(02) No</td>\n",
       "      <td>NaN</td>\n",
       "      <td>(02) No</td>\n",
       "      <td>...</td>\n",
       "      <td>(01) Yes</td>\n",
       "      <td>(01) Yes</td>\n",
       "      <td>(03) Don't know</td>\n",
       "      <td>(03) Don't know</td>\n",
       "      <td>(01) Yes</td>\n",
       "      <td>(02) Agree</td>\n",
       "      <td>(02) Agree</td>\n",
       "      <td>(01) Strongly Agree</td>\n",
       "      <td>(02) No</td>\n",
       "      <td>(99) Don't know</td>\n",
       "    </tr>\n",
       "    <tr>\n",
       "      <th>1</th>\n",
       "      <td>NaN</td>\n",
       "      <td>NaN</td>\n",
       "      <td>NaN</td>\n",
       "      <td>NaN</td>\n",
       "      <td>NaN</td>\n",
       "      <td>NaN</td>\n",
       "      <td>NaN</td>\n",
       "      <td>NaN</td>\n",
       "      <td>NaN</td>\n",
       "      <td>NaN</td>\n",
       "      <td>...</td>\n",
       "      <td>NaN</td>\n",
       "      <td>NaN</td>\n",
       "      <td>NaN</td>\n",
       "      <td>NaN</td>\n",
       "      <td>NaN</td>\n",
       "      <td>NaN</td>\n",
       "      <td>NaN</td>\n",
       "      <td>NaN</td>\n",
       "      <td>NaN</td>\n",
       "      <td>NaN</td>\n",
       "    </tr>\n",
       "    <tr>\n",
       "      <th>2</th>\n",
       "      <td>NaN</td>\n",
       "      <td>(02) No</td>\n",
       "      <td>NaN</td>\n",
       "      <td>(02) No</td>\n",
       "      <td>(02) No</td>\n",
       "      <td>NaN</td>\n",
       "      <td>NaN</td>\n",
       "      <td>(02) No</td>\n",
       "      <td>NaN</td>\n",
       "      <td>(02) No</td>\n",
       "      <td>...</td>\n",
       "      <td>(01) Yes</td>\n",
       "      <td>(01) Yes</td>\n",
       "      <td>(01) Yes</td>\n",
       "      <td>(01) Yes</td>\n",
       "      <td>(01) Yes</td>\n",
       "      <td>(01) Strongly Agree</td>\n",
       "      <td>(01) Strongly Agree</td>\n",
       "      <td>(01) Strongly Agree</td>\n",
       "      <td>(02) No</td>\n",
       "      <td>(02) No</td>\n",
       "    </tr>\n",
       "    <tr>\n",
       "      <th>3</th>\n",
       "      <td>(02) No</td>\n",
       "      <td>NaN</td>\n",
       "      <td>(02) No</td>\n",
       "      <td>NaN</td>\n",
       "      <td>NaN</td>\n",
       "      <td>(02) No</td>\n",
       "      <td>(02) No</td>\n",
       "      <td>NaN</td>\n",
       "      <td>(02) No</td>\n",
       "      <td>NaN</td>\n",
       "      <td>...</td>\n",
       "      <td>(01) Yes</td>\n",
       "      <td>(01) Yes</td>\n",
       "      <td>(02) No</td>\n",
       "      <td>(01) Yes</td>\n",
       "      <td>(01) Yes</td>\n",
       "      <td>(01) Strongly Agree</td>\n",
       "      <td>(01) Strongly Agree</td>\n",
       "      <td>(01) Strongly Agree</td>\n",
       "      <td>NaN</td>\n",
       "      <td>NaN</td>\n",
       "    </tr>\n",
       "    <tr>\n",
       "      <th>4</th>\n",
       "      <td>NaN</td>\n",
       "      <td>NaN</td>\n",
       "      <td>NaN</td>\n",
       "      <td>NaN</td>\n",
       "      <td>NaN</td>\n",
       "      <td>NaN</td>\n",
       "      <td>NaN</td>\n",
       "      <td>NaN</td>\n",
       "      <td>NaN</td>\n",
       "      <td>NaN</td>\n",
       "      <td>...</td>\n",
       "      <td>NaN</td>\n",
       "      <td>NaN</td>\n",
       "      <td>NaN</td>\n",
       "      <td>NaN</td>\n",
       "      <td>NaN</td>\n",
       "      <td>NaN</td>\n",
       "      <td>NaN</td>\n",
       "      <td>NaN</td>\n",
       "      <td>NaN</td>\n",
       "      <td>NaN</td>\n",
       "    </tr>\n",
       "  </tbody>\n",
       "</table>\n",
       "<p>5 rows × 102 columns</p>\n",
       "</div>"
      ],
      "text/plain": [
       "     VS0073   SCS235    VS0074   SCS236   SCS238    VS0075    VS0076   SCS239  \\\n",
       "0       NaN  (02) No       NaN  (02) No  (02) No       NaN       NaN  (02) No   \n",
       "1       NaN      NaN       NaN      NaN      NaN       NaN       NaN      NaN   \n",
       "2       NaN  (02) No       NaN  (02) No  (02) No       NaN       NaN  (02) No   \n",
       "3  (02) No       NaN  (02) No       NaN      NaN  (02) No   (02) No       NaN   \n",
       "4       NaN      NaN       NaN      NaN      NaN       NaN       NaN      NaN   \n",
       "\n",
       "     VS0077   SCS240  ...     VS0036     VS0037            VS0041  \\\n",
       "0       NaN  (02) No  ...  (01) Yes   (01) Yes   (03) Don't know    \n",
       "1       NaN      NaN  ...        NaN        NaN               NaN   \n",
       "2       NaN  (02) No  ...  (01) Yes   (01) Yes          (01) Yes    \n",
       "3  (02) No       NaN  ...  (01) Yes   (01) Yes           (02) No    \n",
       "4       NaN      NaN  ...        NaN        NaN               NaN   \n",
       "\n",
       "             VS0043    VS0044                VS0050                VS0051  \\\n",
       "0  (03) Don't know   (01) Yes           (02) Agree            (02) Agree    \n",
       "1               NaN       NaN                   NaN                   NaN   \n",
       "2          (01) Yes  (01) Yes  (01) Strongly Agree   (01) Strongly Agree    \n",
       "3          (01) Yes  (01) Yes  (01) Strongly Agree   (01) Strongly Agree    \n",
       "4               NaN       NaN                   NaN                   NaN   \n",
       "\n",
       "                 VS0053   SCS230           SCS231  \n",
       "0  (01) Strongly Agree   (02) No  (99) Don't know  \n",
       "1                   NaN      NaN              NaN  \n",
       "2  (01) Strongly Agree   (02) No          (02) No  \n",
       "3  (01) Strongly Agree       NaN              NaN  \n",
       "4                   NaN      NaN              NaN  \n",
       "\n",
       "[5 rows x 102 columns]"
      ]
     },
     "execution_count": 4,
     "metadata": {},
     "output_type": "execute_result"
    }
   ],
   "source": [
    "df.head()"
   ]
  },
  {
   "cell_type": "code",
   "execution_count": 5,
   "metadata": {},
   "outputs": [
    {
     "data": {
      "text/plain": [
       "(14273, 102)"
      ]
     },
     "execution_count": 5,
     "metadata": {},
     "output_type": "execute_result"
    }
   ],
   "source": [
    "df.shape"
   ]
  },
  {
   "cell_type": "code",
   "execution_count": 6,
   "metadata": {},
   "outputs": [
    {
     "data": {
      "text/plain": [
       "(14273, 102)"
      ]
     },
     "execution_count": 6,
     "metadata": {},
     "output_type": "execute_result"
    }
   ],
   "source": [
    "df.dropna(axis = 0, how = 'all', inplace=True)\n",
    "df.shape"
   ]
  },
  {
   "cell_type": "code",
   "execution_count": 7,
   "metadata": {},
   "outputs": [
    {
     "data": {
      "text/plain": [
       "<Axes: >"
      ]
     },
     "execution_count": 7,
     "metadata": {},
     "output_type": "execute_result"
    },
    {
     "data": {
      "image/png": "[encoded data removed]",
      "text/plain": [
       "<Figure size 640x480 with 1 Axes>"
      ]
     },
     "metadata": {},
     "output_type": "display_data"
    }
   ],
   "source": [
    "sns.heatmap(df.isnull(), cbar=False)\n",
    "plt.show()"
   ]
  },
  {
   "cell_type": "code",
   "execution_count": 8,
   "metadata": {},
   "outputs": [
    {
     "data": {
      "text/plain": [
       "(1) Male       7408\n",
       "(2) Female     6859\n",
       "(8) Residue       4\n",
       "Name: gender, dtype: int64"
      ]
     },
     "execution_count": 8,
     "metadata": {},
     "output_type": "execute_result"
    }
   ],
   "source": [
    "df.rename(columns = {'V3017':'gender'}, inplace = True)\n",
    "df['gender'].value_counts()"
   ]
  },
  {
   "cell_type": "markdown",
   "metadata": {},
   "source": [
    "### remove  rows with residue value for gender \n",
    "### 0 = female , 1 = male"
   ]
  },
  {
   "cell_type": "code",
   "execution_count": 9,
   "metadata": {},
   "outputs": [],
   "source": [
    "def gender(r):\n",
    "    if r['gender'] == \"(1) Male\":\n",
    "        return 1\n",
    "    elif r['gender'] == '(2) Female':\n",
    "        return 0\n",
    "    else:\n",
    "        return None\n",
    "df['gender'] = df.apply(gender, axis=1)"
   ]
  },
  {
   "cell_type": "code",
   "execution_count": 10,
   "metadata": {},
   "outputs": [
    {
     "data": {
      "text/plain": [
       "1.0    7408\n",
       "0.0    6859\n",
       "Name: gender, dtype: int64"
      ]
     },
     "execution_count": 10,
     "metadata": {},
     "output_type": "execute_result"
    },
    {
     "data": {
      "text/plain": [
       "6859"
      ]
     },
     "execution_count": 10,
     "metadata": {},
     "output_type": "execute_result"
    },
    {
     "data": {
      "text/plain": [
       "7408"
      ]
     },
     "execution_count": 10,
     "metadata": {},
     "output_type": "execute_result"
    }
   ],
   "source": [
    "# df.drop(df.loc[df['gender']=='(8) Residue'].index, inplace=True)\n",
    "# df.drop(df.loc[df['gender']== 'nan'].index, inplace=True)\n",
    "\n",
    "# df.loc[df[\"gender\"] == \"(1) Male\", \"gender\"] = 1\n",
    "# df.loc[df['gender']== '(2) Female', 'gender'] = 0\n",
    "df['gender'].value_counts()\n",
    "female = len(df[df['gender'] == 0])\n",
    "male = len(df[df['gender'] == 1])\n",
    "female\n",
    "male"
   ]
  },
  {
   "cell_type": "code",
   "execution_count": 11,
   "metadata": {},
   "outputs": [
    {
     "data": {
      "text/plain": [
       "array([ 1.,  0., nan])"
      ]
     },
     "execution_count": 11,
     "metadata": {},
     "output_type": "execute_result"
    }
   ],
   "source": [
    "df['gender'].unique()"
   ]
  },
  {
   "cell_type": "markdown",
   "metadata": {},
   "source": [
    "# 1) Different ways of bullying (9)"
   ]
  },
  {
   "cell_type": "markdown",
   "metadata": {},
   "source": [
    "## 1.1 MADE FUN OF YOU, CALLED YOU NAMES, OR INSULTED YOU, IN A HURFUL WAY? (BEING BULLIED) "
   ]
  },
  {
   "cell_type": "code",
   "execution_count": 12,
   "metadata": {},
   "outputs": [
    {
     "data": {
      "text/plain": [
       "(02) No            3139\n",
       "(01) Yes            508\n",
       "(08) Residue         18\n",
       "(98) Refused         14\n",
       "(99) Don't know       5\n",
       "Name: VS0073, dtype: int64"
      ]
     },
     "execution_count": 12,
     "metadata": {},
     "output_type": "execute_result"
    },
    {
     "data": {
      "text/plain": [
       "array([nan, '(02) No ', '(01) Yes ', '(08) Residue ', '(98) Refused ',\n",
       "       \"(99) Don't know\"], dtype=object)"
      ]
     },
     "execution_count": 12,
     "metadata": {},
     "output_type": "execute_result"
    }
   ],
   "source": [
    "df['VS0073'].value_counts()\n",
    "df['VS0073'].unique()"
   ]
  },
  {
   "cell_type": "code",
   "execution_count": 13,
   "metadata": {},
   "outputs": [
    {
     "data": {
      "text/plain": [
       "(02) No            2019\n",
       "(01) Yes            348\n",
       "(08) Residue         16\n",
       "(98) Refused         10\n",
       "(99) Don't know       8\n",
       "Name: SCS235, dtype: int64"
      ]
     },
     "execution_count": 13,
     "metadata": {},
     "output_type": "execute_result"
    },
    {
     "data": {
      "text/plain": [
       "array(['(02) No', nan, \"(99) Don't know\", '(01) Yes', '(98) Refused',\n",
       "       '(08) Residue'], dtype=object)"
      ]
     },
     "execution_count": 13,
     "metadata": {},
     "output_type": "execute_result"
    }
   ],
   "source": [
    "df['SCS235'].value_counts()\n",
    "df['SCS235'].unique()"
   ]
  },
  {
   "cell_type": "code",
   "execution_count": 14,
   "metadata": {},
   "outputs": [
    {
     "data": {
      "text/plain": [
       "NaN           8188\n",
       "0             5158\n",
       "1              856\n",
       "residue         34\n",
       "refused         24\n",
       "don't know      13\n",
       "Name: insulted, dtype: int64"
      ]
     },
     "execution_count": 14,
     "metadata": {},
     "output_type": "execute_result"
    }
   ],
   "source": [
    "def insulted(row):\n",
    "    if row['VS0073'] == '(01) Yes ' or row['SCS235'] == '(01) Yes' :\n",
    "        return 1\n",
    "    elif row['VS0073'] == '(02) No ' or row['SCS235'] =='(02) No':\n",
    "        return 0\n",
    "    elif row['VS0073'] == '(08) Residue ' or row['SCS235'] =='(08) Residue':\n",
    "        return 'residue'\n",
    "    elif row['VS0073'] == '(98) Refused ' or row['SCS235'] =='(98) Refused':\n",
    "        return 'refused'\n",
    "    elif row['VS0073'] == '(99) Don\\'t know' or row['SCS235'] =='(99) Don\\'t know':\n",
    "        return 'don\\'t know'\n",
    "    else:\n",
    "        return 'NaN'\n",
    "df['insulted'] = df.apply(insulted, axis=1)\n",
    "df.drop('VS0073', axis = 1, inplace = True)\n",
    "df.drop('SCS235', axis = 1, inplace = True)\n",
    "df['insulted'].value_counts()"
   ]
  },
  {
   "cell_type": "code",
   "execution_count": 15,
   "metadata": {},
   "outputs": [
    {
     "name": "stdout",
     "output_type": "stream",
     "text": [
      "male being insulted= 0.056020518358531314\n",
      "female being insulted= 0.06429508674733926\n"
     ]
    }
   ],
   "source": [
    "print('male being insulted=', len(df[(df['gender']==1) & (df['insulted']==1)])/len(df[(df['gender']==1)]))\n",
    "print('female being insulted=', len(df[(df['gender']==0) & (df['insulted']==1)])/len(df[(df['gender']==0)]))"
   ]
  },
  {
   "cell_type": "markdown",
   "metadata": {},
   "source": [
    "## 1.2 SPREAD RUMORS"
   ]
  },
  {
   "cell_type": "code",
   "execution_count": 16,
   "metadata": {},
   "outputs": [
    {
     "data": {
      "text/plain": [
       "array([nan, '(02) No ', '(01) Yes ', '(08) Residue ', '(98) Refused ',\n",
       "       \"(99) Don't know\"], dtype=object)"
      ]
     },
     "execution_count": 16,
     "metadata": {},
     "output_type": "execute_result"
    },
    {
     "data": {
      "text/plain": [
       "(02) No            3098\n",
       "(01) Yes            542\n",
       "(08) Residue         18\n",
       "(98) Refused         14\n",
       "(99) Don't know      12\n",
       "Name: VS0074, dtype: int64"
      ]
     },
     "execution_count": 16,
     "metadata": {},
     "output_type": "execute_result"
    },
    {
     "data": {
      "text/plain": [
       "array(['(02) No', nan, \"(99) Don't know\", '(01) Yes', '(98) Refused',\n",
       "       '(08) Residue'], dtype=object)"
      ]
     },
     "execution_count": 16,
     "metadata": {},
     "output_type": "execute_result"
    },
    {
     "data": {
      "text/plain": [
       "(02) No            2031\n",
       "(01) Yes            335\n",
       "(08) Residue         16\n",
       "(98) Refused         10\n",
       "(99) Don't know       9\n",
       "Name: SCS236, dtype: int64"
      ]
     },
     "execution_count": 16,
     "metadata": {},
     "output_type": "execute_result"
    }
   ],
   "source": [
    "df['VS0074'].unique()\n",
    "df['VS0074'].value_counts()\n",
    "df['SCS236'].unique()\n",
    "df['SCS236'].value_counts()"
   ]
  },
  {
   "cell_type": "code",
   "execution_count": 17,
   "metadata": {},
   "outputs": [
    {
     "data": {
      "text/plain": [
       "NaN           8188\n",
       "0             5129\n",
       "1              877\n",
       "residue         34\n",
       "refused         24\n",
       "don't know      21\n",
       "Name: rumors, dtype: int64"
      ]
     },
     "execution_count": 17,
     "metadata": {},
     "output_type": "execute_result"
    }
   ],
   "source": [
    "def rumors(row):\n",
    "    if row['VS0074'] == '(01) Yes ' or row['SCS236'] == '(01) Yes' :\n",
    "        return 1\n",
    "    elif row['VS0074'] == '(02) No ' or row['SCS236'] =='(02) No':\n",
    "        return 0\n",
    "    elif row['VS0074'] == '(08) Residue ' or row['SCS236'] =='(08) Residue':\n",
    "        return 'residue'\n",
    "    elif row['VS0074'] == '(98) Refused ' or row['SCS236'] =='(98) Refused':\n",
    "        return 'refused'\n",
    "    elif row['VS0074'] == '(99) Don\\'t know' or row['SCS236'] =='(99) Don\\'t know':\n",
    "        return 'don\\'t know'\n",
    "    else:\n",
    "        return 'NaN'\n",
    "df['rumors'] = df.apply(rumors, axis=1)\n",
    "df.drop('VS0074', axis = 1, inplace = True)\n",
    "df.drop('SCS236', axis = 1, inplace = True)\n",
    "df['rumors'].value_counts()"
   ]
  },
  {
   "cell_type": "code",
   "execution_count": 18,
   "metadata": {},
   "outputs": [
    {
     "name": "stdout",
     "output_type": "stream",
     "text": [
      "male rumors= 0.04859611231101512\n",
      "female rumors= 0.07537541915731157\n"
     ]
    }
   ],
   "source": [
    "print('male rumors=', len(df[(df['gender']==1) & (df['rumors']==1)])/len(df[(df['gender']==1)]))\n",
    "print('female rumors=', len(df[(df['gender']==0) & (df['rumors']==1)])/len(df[(df['gender']==0)]))"
   ]
  },
  {
   "cell_type": "markdown",
   "metadata": {},
   "source": [
    "## 1.3 threaten with harm"
   ]
  },
  {
   "cell_type": "code",
   "execution_count": 19,
   "metadata": {},
   "outputs": [
    {
     "data": {
      "text/plain": [
       "array([nan, '(02) No ', '(01) Yes ', '(08) Residue ', '(98) Refused ',\n",
       "       \"(99) Don't know\"], dtype=object)"
      ]
     },
     "execution_count": 19,
     "metadata": {},
     "output_type": "execute_result"
    },
    {
     "data": {
      "text/plain": [
       "(02) No            3463\n",
       "(01) Yes            184\n",
       "(08) Residue         18\n",
       "(98) Refused         14\n",
       "(99) Don't know       5\n",
       "Name: VS0075, dtype: int64"
      ]
     },
     "execution_count": 19,
     "metadata": {},
     "output_type": "execute_result"
    },
    {
     "data": {
      "text/plain": [
       "array(['(02) No', nan, \"(99) Don't know\", '(01) Yes', '(98) Refused',\n",
       "       '(08) Residue'], dtype=object)"
      ]
     },
     "execution_count": 19,
     "metadata": {},
     "output_type": "execute_result"
    },
    {
     "data": {
      "text/plain": [
       "(02) No            2288\n",
       "(01) Yes             82\n",
       "(08) Residue         16\n",
       "(98) Refused         10\n",
       "(99) Don't know       5\n",
       "Name: SCS238, dtype: int64"
      ]
     },
     "execution_count": 19,
     "metadata": {},
     "output_type": "execute_result"
    }
   ],
   "source": [
    "df['VS0075'].unique()\n",
    "df['VS0075'].value_counts()\n",
    "df['SCS238'].unique()\n",
    "df['SCS238'].value_counts()"
   ]
  },
  {
   "cell_type": "code",
   "execution_count": 20,
   "metadata": {},
   "outputs": [
    {
     "data": {
      "text/plain": [
       "NaN           8188\n",
       "0             5751\n",
       "1              266\n",
       "residue         34\n",
       "refused         24\n",
       "don't know      10\n",
       "Name: threaten, dtype: int64"
      ]
     },
     "execution_count": 20,
     "metadata": {},
     "output_type": "execute_result"
    }
   ],
   "source": [
    "def threaten(row):\n",
    "    if row['VS0075'] == '(01) Yes ' or row['SCS238'] == '(01) Yes' :\n",
    "        return 1\n",
    "    elif row['VS0075'] == '(02) No ' or row['SCS238'] =='(02) No':\n",
    "        return 0\n",
    "    elif row['VS0075'] == '(08) Residue ' or row['SCS238'] =='(08) Residue':\n",
    "        return 'residue'\n",
    "    elif row['VS0075'] == '(98) Refused ' or row['SCS238'] =='(98) Refused':\n",
    "        return 'refused'\n",
    "    elif row['VS0075'] == '(99) Don\\'t know' or row['SCS238'] =='(99) Don\\'t know':\n",
    "        return 'don\\'t know'\n",
    "    else:\n",
    "        return 'NaN'\n",
    "df['threaten'] = df.apply(threaten, axis=1)\n",
    "df.drop('VS0075', axis = 1, inplace = True)\n",
    "df.drop('SCS238', axis = 1, inplace = True)\n",
    "df['threaten'].value_counts()"
   ]
  },
  {
   "cell_type": "code",
   "execution_count": 21,
   "metadata": {},
   "outputs": [
    {
     "name": "stdout",
     "output_type": "stream",
     "text": [
      "female threaten with harm= 0.01662049861495845\n"
     ]
    }
   ],
   "source": [
    "# print('male threaten with harm=', len(df[(df['gender']==1) & (df['threaten']==1)])/len(df[(df['gender']==1)]))\n",
    "print('female threaten with harm=', len(df[(df['gender']==0) & (df['threaten']==1)])/len(df[(df['gender']==0)]))"
   ]
  },
  {
   "cell_type": "markdown",
   "metadata": {},
   "source": [
    "## 1.4 PUSHED YOU, SHOVED YOU, TRIPPED YOU, OR SPIT ON YOU \n"
   ]
  },
  {
   "cell_type": "code",
   "execution_count": 22,
   "metadata": {},
   "outputs": [
    {
     "data": {
      "text/plain": [
       "NaN           8193\n",
       "0             5657\n",
       "1              360\n",
       "residue         34\n",
       "refused         25\n",
       "don't know       4\n",
       "Name: spit, dtype: int64"
      ]
     },
     "execution_count": 22,
     "metadata": {},
     "output_type": "execute_result"
    },
    {
     "name": "stdout",
     "output_type": "stream",
     "text": [
      "male spit= 0.031047516198704102\n",
      "female spit= 0.01895320017495262\n"
     ]
    }
   ],
   "source": [
    "def spit(row):\n",
    "    if row['VS0076'] == '(01) Yes ' or row['SCS239'] == '(01) Yes' :\n",
    "        return 1\n",
    "    elif row['VS0076'] == '(02) No ' or row['SCS239'] =='(02) No':\n",
    "        return 0\n",
    "    elif row['VS0076'] == '(08) Residue ' or row['SCS239'] =='(08) Residue':\n",
    "        return 'residue'\n",
    "    elif row['VS0076'] == '(98) Refused ' or row['SCS239'] =='(98) Refused':\n",
    "        return 'refused'\n",
    "    elif row['VS0076'] == '(99) Don\\'t know' or row['SCS239'] =='(99) Don\\'t know':\n",
    "        return 'don\\'t know'\n",
    "    else:\n",
    "        return 'NaN'\n",
    "df['spit'] = df.apply(spit, axis=1)\n",
    "df.drop('VS0076', axis = 1, inplace = True)\n",
    "df.drop('SCS239', axis = 1, inplace = True)\n",
    "df['spit'].value_counts()\n",
    "\n",
    "print('male spit=', len(df[(df['gender']==1) & (df['spit']==1)])/len(df[(df['gender']==1)]))\n",
    "print('female spit=', len(df[(df['gender']==0) & (df['spit']==1)])/len(df[(df['gender']==0)]))"
   ]
  },
  {
   "cell_type": "markdown",
   "metadata": {},
   "source": [
    "## 1.5 TRIED TO MAKE YOU DO THINGS YOU DID NOT WANT TO DO "
   ]
  },
  {
   "cell_type": "code",
   "execution_count": 23,
   "metadata": {},
   "outputs": [
    {
     "data": {
      "text/plain": [
       "NaN           8188\n",
       "0             5869\n",
       "1              145\n",
       "residue         34\n",
       "refused         25\n",
       "don't know      12\n",
       "Name: force, dtype: int64"
      ]
     },
     "execution_count": 23,
     "metadata": {},
     "output_type": "execute_result"
    },
    {
     "name": "stdout",
     "output_type": "stream",
     "text": [
      "male force= 0.011204103671706264\n",
      "female force= 0.009039218544977402\n"
     ]
    }
   ],
   "source": [
    "def force(row):\n",
    "    if row['VS0077'] == '(01) Yes ' or row['SCS240'] == '(01) Yes' :\n",
    "        return 1\n",
    "    elif row['VS0077'] == '(02) No ' or row['SCS240'] =='(02) No':\n",
    "        return 0\n",
    "    elif row['VS0077'] == '(08) Residue ' or row['SCS240'] =='(08) Residue':\n",
    "        return 'residue'\n",
    "    elif row['VS0077'] == '(98) Refused ' or row['SCS240'] =='(98) Refused':\n",
    "        return 'refused'\n",
    "    elif row['VS0077'] == '(99) Don\\'t know' or row['SCS240'] =='(99) Don\\'t know':\n",
    "        return 'don\\'t know'\n",
    "    else:\n",
    "        return 'NaN'\n",
    "df['force'] = df.apply(force, axis=1)\n",
    "df.drop('VS0077', axis = 1, inplace = True)\n",
    "df.drop('SCS240', axis = 1, inplace = True)\n",
    "df['force'].value_counts()\n",
    "\n",
    "print('male force=', len(df[(df['gender']==1) & (df['force']==1)])/len(df[(df['gender']==1)]))\n",
    "print('female force=', len(df[(df['gender']==0) & (df['force']==1)])/len(df[(df['gender']==0)]))"
   ]
  },
  {
   "cell_type": "markdown",
   "metadata": {},
   "source": [
    "## 1.6 EXCLUDED YOU FROM ACTIVITIES, SOCIAL MEDIA, OR OTHER COMMUNICATIONS ON PURPOSE \n"
   ]
  },
  {
   "cell_type": "code",
   "execution_count": 24,
   "metadata": {},
   "outputs": [
    {
     "data": {
      "text/plain": [
       "NaN           8188\n",
       "0             5686\n",
       "1              327\n",
       "residue         34\n",
       "refused         25\n",
       "don't know      13\n",
       "Name: exclude, dtype: int64"
      ]
     },
     "execution_count": 24,
     "metadata": {},
     "output_type": "execute_result"
    },
    {
     "name": "stdout",
     "output_type": "stream",
     "text": [
      "male exclude= 0.016468682505399568\n",
      "female exclude= 0.02988773873742528\n"
     ]
    }
   ],
   "source": [
    "def exclude(row):\n",
    "    if row['VS0078'] == '(01) Yes ' or row['SCS241'] == '(01) Yes' :\n",
    "        return 1\n",
    "    elif row['VS0078'] == '(02) No ' or row['SCS241'] =='(02) No':\n",
    "        return 0\n",
    "    elif row['VS0078'] == '(08) Residue ' or row['SCS241'] =='(08) Residue':\n",
    "        return 'residue'\n",
    "    elif row['VS0078'] == '(98) Refused ' or row['SCS241'] =='(98) Refused':\n",
    "        return 'refused'\n",
    "    elif row['VS0078'] == '(99) Don\\'t know' or row['SCS241'] =='(99) Don\\'t know':\n",
    "        return 'don\\'t know'\n",
    "    else:\n",
    "        return 'NaN'\n",
    "df['exclude'] = df.apply(exclude, axis=1)\n",
    "df.drop('VS0078', axis = 1, inplace = True)\n",
    "df.drop('SCS241', axis = 1, inplace = True)\n",
    "df['exclude'].value_counts()\n",
    "\n",
    "print('male exclude=', len(df[(df['gender']==1) & (df['exclude']==1)])/len(df[(df['gender']==1)]))\n",
    "print('female exclude=', len(df[(df['gender']==0) & (df['exclude']==1)])/len(df[(df['gender']==0)]))"
   ]
  },
  {
   "cell_type": "markdown",
   "metadata": {},
   "source": [
    "## 1.7 DESTROYED YOUR PROPERTY ON PURPOSE\n"
   ]
  },
  {
   "cell_type": "code",
   "execution_count": 25,
   "metadata": {},
   "outputs": [
    {
     "data": {
      "text/plain": [
       "NaN           8188\n",
       "0             5913\n",
       "1              105\n",
       "residue         34\n",
       "refused         25\n",
       "don't know       8\n",
       "Name: destroy_property, dtype: int64"
      ]
     },
     "execution_count": 25,
     "metadata": {},
     "output_type": "execute_result"
    },
    {
     "name": "stdout",
     "output_type": "stream",
     "text": [
      "male destroy_property= 0.007694384449244061\n",
      "female destroy_property= 0.006998104679982505\n"
     ]
    }
   ],
   "source": [
    "def destroy_property(row):\n",
    "    if row['VS0079'] == '(01) Yes ' or row['SCS242'] == '(01) Yes' :\n",
    "        return 1\n",
    "    elif row['VS0079'] == '(02) No ' or row['SCS242'] =='(02) No':\n",
    "        return 0\n",
    "    elif row['VS0079'] == '(08) Residue ' or row['SCS242'] =='(08) Residue':\n",
    "        return 'residue'\n",
    "    elif row['VS0079'] == '(98) Refused ' or row['SCS242'] =='(98) Refused':\n",
    "        return 'refused'\n",
    "    elif row['VS0079'] == '(99) Don\\'t know' or row['SCS242'] =='(99) Don\\'t know':\n",
    "        return 'don\\'t know'\n",
    "    else:\n",
    "        return 'NaN'\n",
    "df['destroy_property'] = df.apply(destroy_property, axis=1)\n",
    "df.drop('VS0079', axis = 1, inplace = True)\n",
    "df.drop('SCS242', axis = 1, inplace = True)\n",
    "df['destroy_property'].value_counts()\n",
    "\n",
    "print('male destroy_property=', len(df[(df['gender']==1) & (df['destroy_property']==1)])/len(df[(df['gender']==1)]))\n",
    "print('female destroy_property=', len(df[(df['gender']==0) & (df['destroy_property']==1)])/len(df[(df['gender']==0)]))"
   ]
  },
  {
   "cell_type": "markdown",
   "metadata": {},
   "source": [
    "## 1.8 DURING THIS SCHOOL YEAR, HAS ANOTHER STUDENT IN PERSON OR USING TECHNOLOGIES: PURPOSELY SHARED YOUR PRIVATE INFORMATION, PHOTOS, OR VIDEOS IN A HURTFUL WAY? "
   ]
  },
  {
   "cell_type": "code",
   "execution_count": 26,
   "metadata": {},
   "outputs": [
    {
     "data": {
      "text/plain": [
       "(02) No             2319\n",
       "(01) Yes              50\n",
       "(08) Residue          16\n",
       "(98) Refused          10\n",
       "(99) Don't know        6\n",
       "Name: shared_info, dtype: int64"
      ]
     },
     "execution_count": 26,
     "metadata": {},
     "output_type": "execute_result"
    }
   ],
   "source": [
    "df.rename(columns = {'SCS237':'shared_info'}, inplace = True)\n",
    "df['shared_info'].value_counts()"
   ]
  },
  {
   "cell_type": "code",
   "execution_count": 27,
   "metadata": {},
   "outputs": [
    {
     "name": "stdout",
     "output_type": "stream",
     "text": [
      "male shared_info= 0.002294816414686825\n",
      "female shared_info= 0.004811196967487972\n"
     ]
    }
   ],
   "source": [
    "print('male shared_info=', len(df[(df['gender']==1) & (df['shared_info']=='(01) Yes')])/len(df[(df['gender']==1)]))\n",
    "print('female shared_info=', len(df[(df['gender']==0) & (df['shared_info']=='(01) Yes')])/len(df[(df['gender']==0)]))"
   ]
  },
  {
   "cell_type": "markdown",
   "metadata": {},
   "source": [
    "# 1.9 Being Bullied COMBO"
   ]
  },
  {
   "cell_type": "code",
   "execution_count": 28,
   "metadata": {},
   "outputs": [
    {
     "data": {
      "text/plain": [
       "array([nan, '(02) No', '(01) Yes', \"(03) Don't know\", '(08) Residue',\n",
       "       '(98) Refused'], dtype=object)"
      ]
     },
     "execution_count": 28,
     "metadata": {},
     "output_type": "execute_result"
    }
   ],
   "source": [
    "df['SCS278'].unique()"
   ]
  },
  {
   "cell_type": "code",
   "execution_count": 29,
   "metadata": {},
   "outputs": [
    {
     "data": {
      "text/plain": [
       "0    12934\n",
       "1     1339\n",
       "Name: bullied, dtype: int64"
      ]
     },
     "execution_count": 29,
     "metadata": {},
     "output_type": "execute_result"
    },
    {
     "data": {
      "text/plain": [
       "1339"
      ]
     },
     "execution_count": 29,
     "metadata": {},
     "output_type": "execute_result"
    }
   ],
   "source": [
    "def bullied(row):\n",
    "    if row['SCS278'] == '(01) Yes' or row['insulted'] == 1  or row['rumors'] == 1 or row['threaten'] == 1 or row['spit'] == 1 or row['force'] == 1 or row['exclude']== 1 or row['destroy_property'] == 1 or row['shared_info'] == 1:\n",
    "            return 1\n",
    "    elif row['SCS278'] is None and row['insulted'] ==  'NaN'and row['rumors'] == 'NaN' and row['threaten'] == 'NaN'and row['spit'] == 'NaN'and row['force'] == 'NaN'and row['exclude']== 'NaN'and row['destroy_property'] == 'NaN'and row['shared_info'] == 'NaN':\n",
    "            return 'NaN'\n",
    "    else:\n",
    "        return 0 \n",
    "df['bullied'] = df.apply(bullied, axis = 1)\n",
    "df['bullied'].value_counts()\n",
    "total_bullied = len(df[df['bullied']==1])\n",
    "total_bullied"
   ]
  },
  {
   "cell_type": "code",
   "execution_count": 30,
   "metadata": {},
   "outputs": [
    {
     "name": "stdout",
     "output_type": "stream",
     "text": [
      "0.10176410555474559 of female were bullied\n",
      "0.0865280777537797 of male were bullied\n",
      "0.5212845407020165 of bullied victims were female\n",
      "0.4787154592979836 of bullied victims were male\n"
     ]
    }
   ],
   "source": [
    "female_bullied = len(df[(df['gender']==0) & (df['bullied']==1)])\n",
    "male_bullied = len(df[(df['gender']==1) & (df['bullied']==1)])\n",
    "print(female_bullied/female, 'of female were bullied')\n",
    "print(male_bullied/male, 'of male were bullied')\n",
    "print(female_bullied/total_bullied, 'of bullied victims were female')\n",
    "print(male_bullied/total_bullied, 'of bullied victims were male')"
   ]
  },
  {
   "cell_type": "code",
   "execution_count": 31,
   "metadata": {},
   "outputs": [
    {
     "name": "stdout",
     "output_type": "stream",
     "text": [
      "male being insulted= 0.6474258970358814\n",
      "female being insulted= 0.6318051575931232\n",
      "male rumors= 0.5616224648985959\n",
      "female rumors= 0.7406876790830945\n",
      "male threaten with harm= 0.23712948517940718\n",
      "female threaten with harm= 0.16332378223495703\n",
      "male spit= 0.358814352574103\n",
      "female spit= 0.18624641833810887\n",
      "male force= 0.1294851794071763\n",
      "female force= 0.08882521489971347\n",
      "male exclude= 0.19032761310452417\n",
      "female exclude= 0.29369627507163326\n",
      "male destroy_property= 0.08892355694227769\n",
      "female destroy_property= 0.06876790830945559\n",
      "male shared_info= 0.0265210608424337\n",
      "female shared_info= 0.04727793696275072\n"
     ]
    }
   ],
   "source": [
    "print('male being insulted=', len(df[(df['gender']==1) & (df['insulted']==1)])/male_bullied)\n",
    "print('female being insulted=', len(df[(df['gender']==0) & (df['insulted']==1)])/female_bullied)\n",
    "print('male rumors=', len(df[(df['gender']==1) & (df['rumors']==1)])/male_bullied)\n",
    "print('female rumors=', len(df[(df['gender']==0) & (df['rumors']==1)])/female_bullied)\n",
    "print('male threaten with harm=', len(df[(df['gender']==1) & (df['threaten']==1)])/male_bullied)\n",
    "print('female threaten with harm=', len(df[(df['gender']==0) & (df['threaten']==1)])/female_bullied)\n",
    "print('male spit=', len(df[(df['gender']==1) & (df['spit']==1)])/male_bullied)\n",
    "print('female spit=', len(df[(df['gender']==0) & (df['spit']==1)])/female_bullied)\n",
    "print('male force=', len(df[(df['gender']==1) & (df['force']==1)])/male_bullied)\n",
    "print('female force=', len(df[(df['gender']==0) & (df['force']==1)])/female_bullied)\n",
    "print('male exclude=', len(df[(df['gender']==1) & (df['exclude']==1)])/male_bullied)\n",
    "print('female exclude=', len(df[(df['gender']==0) & (df['exclude']==1)])/female_bullied)\n",
    "print('male destroy_property=', len(df[(df['gender']==1) & (df['destroy_property']==1)])/male_bullied)\n",
    "print('female destroy_property=', len(df[(df['gender']==0) & (df['destroy_property']==1)])/female_bullied)\n",
    "print('male shared_info=', len(df[(df['gender']==1) & (df['shared_info']=='(01) Yes')])/male_bullied)\n",
    "print('female shared_info=', len(df[(df['gender']==0) & (df['shared_info']=='(01) Yes')])/female_bullied)"
   ]
  },
  {
   "cell_type": "markdown",
   "metadata": {},
   "source": [
    "# 2) Bullying in different locations (9)"
   ]
  },
  {
   "cell_type": "markdown",
   "metadata": {},
   "source": [
    "## 2.1 inside classrooms "
   ]
  },
  {
   "cell_type": "code",
   "execution_count": 32,
   "metadata": {},
   "outputs": [
    {
     "data": {
      "text/plain": [
       "array([nan, '(0) Not selected ', '(1) In a classroom at school',\n",
       "       '(8) Residue  '], dtype=object)"
      ]
     },
     "execution_count": 32,
     "metadata": {},
     "output_type": "execute_result"
    },
    {
     "data": {
      "text/plain": [
       "(0) Not selected                426\n",
       "(1) In a classroom at school    371\n",
       "(8) Residue                      19\n",
       "Name: VS0081, dtype: int64"
      ]
     },
     "execution_count": 32,
     "metadata": {},
     "output_type": "execute_result"
    },
    {
     "data": {
      "text/plain": [
       "array([nan, '(1) Response selected', '(0) Response not selected',\n",
       "       '(8) Residue'], dtype=object)"
      ]
     },
     "execution_count": 32,
     "metadata": {},
     "output_type": "execute_result"
    },
    {
     "data": {
      "text/plain": [
       "(0) Response not selected    319\n",
       "(1) Response selected        209\n",
       "(8) Residue                   16\n",
       "Name: SCS257, dtype: int64"
      ]
     },
     "execution_count": 32,
     "metadata": {},
     "output_type": "execute_result"
    }
   ],
   "source": [
    "df['VS0081'].unique()\n",
    "df['VS0081'].value_counts()\n",
    "\n",
    "df['SCS257'].unique()\n",
    "df['SCS257'].value_counts()"
   ]
  },
  {
   "cell_type": "code",
   "execution_count": 33,
   "metadata": {},
   "outputs": [
    {
     "data": {
      "text/plain": [
       "0    13693\n",
       "1      580\n",
       "Name: classroom, dtype: int64"
      ]
     },
     "execution_count": 33,
     "metadata": {},
     "output_type": "execute_result"
    },
    {
     "name": "stdout",
     "output_type": "stream",
     "text": [
      "male classroom= 0.42589703588143524\n",
      "female classrom= 0.43982808022922637\n"
     ]
    }
   ],
   "source": [
    "def classroom(row):\n",
    "    if row['VS0081'] == '(1) In a classroom at school' or row['SCS257'] == '(1) Response selected' :\n",
    "        return 1\n",
    "    elif  row['VS0081'] == '(8) Residue  ' and row['SCS257'] == '(8) Residue':\n",
    "        return None\n",
    "    else:\n",
    "        return 0\n",
    "df['classroom'] = df.apply(classroom, axis=1)\n",
    "df.drop('VS0081', axis = 1, inplace = True)\n",
    "df.drop('SCS257', axis = 1, inplace = True)\n",
    "df['classroom'].value_counts()\n",
    "\n",
    "print('male classroom=', len(df[(df['gender']==1) & (df['classroom']==1)])/male_bullied)\n",
    "print('female classrom=', len(df[(df['gender']==0) & (df['classroom']==1)])/female_bullied)"
   ]
  },
  {
   "cell_type": "markdown",
   "metadata": {},
   "source": [
    "## 2.2 Somewhere else in schoolbuilding"
   ]
  },
  {
   "cell_type": "code",
   "execution_count": 34,
   "metadata": {},
   "outputs": [
    {
     "data": {
      "text/plain": [
       "array([nan, '(0) Not selected ',\n",
       "       '(1) In a hallway or stairwell at school', '(8) Residue '],\n",
       "      dtype=object)"
      ]
     },
     "execution_count": 34,
     "metadata": {},
     "output_type": "execute_result"
    },
    {
     "data": {
      "text/plain": [
       "(0) Not selected                           478\n",
       "(1) In a hallway or stairwell at school    319\n",
       "(8) Residue                                 19\n",
       "Name: VS0082, dtype: int64"
      ]
     },
     "execution_count": 34,
     "metadata": {},
     "output_type": "execute_result"
    },
    {
     "data": {
      "text/plain": [
       "array([nan, '(0) Response not selected', '(1) Response selected',\n",
       "       '(8) Residue'], dtype=object)"
      ]
     },
     "execution_count": 34,
     "metadata": {},
     "output_type": "execute_result"
    },
    {
     "data": {
      "text/plain": [
       "(0) Response not selected    313\n",
       "(1) Response selected        215\n",
       "(8) Residue                   16\n",
       "Name: SCS258, dtype: int64"
      ]
     },
     "execution_count": 34,
     "metadata": {},
     "output_type": "execute_result"
    }
   ],
   "source": [
    "df['VS0082'].unique()\n",
    "df['VS0082'].value_counts()\n",
    "\n",
    "df['SCS258'].unique()\n",
    "df['SCS258'].value_counts()"
   ]
  },
  {
   "cell_type": "code",
   "execution_count": 35,
   "metadata": {},
   "outputs": [
    {
     "data": {
      "text/plain": [
       "0    13739\n",
       "1      534\n",
       "Name: hallway, dtype: int64"
      ]
     },
     "execution_count": 35,
     "metadata": {},
     "output_type": "execute_result"
    },
    {
     "name": "stdout",
     "output_type": "stream",
     "text": [
      "male= 0.37753510140405616\n",
      "female= 0.4183381088825215\n"
     ]
    }
   ],
   "source": [
    "def hallway(row):\n",
    "    if row['VS0082'] == '(1) In a hallway or stairwell at school' or row['SCS258'] == '(1) Response selected' :\n",
    "        return 1\n",
    "    elif  row['VS0082'] == '(8) Residue  ' and row['SCS258'] == '(8) Residue':\n",
    "        return None\n",
    "    else:\n",
    "        return 0\n",
    "df['hallway'] = df.apply(hallway, axis=1)\n",
    "df.drop('VS0082', axis = 1, inplace = True)\n",
    "df.drop('SCS258', axis = 1, inplace = True)\n",
    "df['hallway'].value_counts()\n",
    "\n",
    "print('male=', len(df[(df['gender']==1) & (df['hallway']==1)])/male_bullied)\n",
    "print('female=', len(df[(df['gender']==0) & (df['hallway']==1)])/female_bullied)"
   ]
  },
  {
   "cell_type": "markdown",
   "metadata": {},
   "source": [
    "## 2.3  BATHROOM OR LOCKER ROOM \n"
   ]
  },
  {
   "cell_type": "code",
   "execution_count": 36,
   "metadata": {},
   "outputs": [
    {
     "data": {
      "text/plain": [
       "array([nan, '(0) Not selected ',\n",
       "       '(1) In a bathroom or locker room at school', '(8) Residue '],\n",
       "      dtype=object)"
      ]
     },
     "execution_count": 36,
     "metadata": {},
     "output_type": "execute_result"
    },
    {
     "data": {
      "text/plain": [
       "(0) Not selected                              697\n",
       "(1) In a bathroom or locker room at school    100\n",
       "(8) Residue                                    19\n",
       "Name: VS0083, dtype: int64"
      ]
     },
     "execution_count": 36,
     "metadata": {},
     "output_type": "execute_result"
    },
    {
     "data": {
      "text/plain": [
       "array([nan, '(0) Response not selected', '(8) Residue',\n",
       "       '(1) Response selected'], dtype=object)"
      ]
     },
     "execution_count": 36,
     "metadata": {},
     "output_type": "execute_result"
    },
    {
     "data": {
      "text/plain": [
       "(0) Response not selected    486\n",
       "(1) Response selected         42\n",
       "(8) Residue                   16\n",
       "Name: SCS259, dtype: int64"
      ]
     },
     "execution_count": 36,
     "metadata": {},
     "output_type": "execute_result"
    }
   ],
   "source": [
    "df['VS0083'].unique()\n",
    "df['VS0083'].value_counts()\n",
    "\n",
    "df['SCS259'].unique()\n",
    "df['SCS259'].value_counts()"
   ]
  },
  {
   "cell_type": "code",
   "execution_count": 37,
   "metadata": {},
   "outputs": [
    {
     "data": {
      "text/plain": [
       "0    14131\n",
       "1      142\n",
       "Name: bathroom, dtype: int64"
      ]
     },
     "execution_count": 37,
     "metadata": {},
     "output_type": "execute_result"
    },
    {
     "name": "stdout",
     "output_type": "stream",
     "text": [
      "male= 0.12168486739469579\n",
      "female= 0.09169054441260745\n"
     ]
    }
   ],
   "source": [
    "def bathroom(row):\n",
    "    if row['VS0083'] == '(1) In a bathroom or locker room at school' or row['SCS259'] == '(1) Response selected' :\n",
    "        return 1\n",
    "    else:\n",
    "        return 0\n",
    "df['bathroom'] = df.apply(bathroom, axis=1)\n",
    "df.drop('VS0083', axis = 1, inplace = True)\n",
    "df.drop('SCS259', axis = 1, inplace = True)\n",
    "df['bathroom'].value_counts()\n",
    "\n",
    "print('male=', len(df[(df['gender']==1) & (df['bathroom']==1)])/male_bullied)\n",
    "print('female=', len(df[(df['gender']==0) & (df['bathroom']==1)])/female_bullied)"
   ]
  },
  {
   "cell_type": "markdown",
   "metadata": {},
   "source": [
    "## 2.4 GYMNASIUM OR WEIGHT ROOM "
   ]
  },
  {
   "cell_type": "code",
   "execution_count": 38,
   "metadata": {},
   "outputs": [
    {
     "data": {
      "text/plain": [
       "array([nan, '(1) Response selected', '(0) Response not selected',\n",
       "       '(8) Residue'], dtype=object)"
      ]
     },
     "execution_count": 38,
     "metadata": {},
     "output_type": "execute_result"
    },
    {
     "data": {
      "text/plain": [
       "(0) Response not selected    465\n",
       "(1) Response selected         63\n",
       "(8) Residue                   16\n",
       "Name: SCS260, dtype: int64"
      ]
     },
     "execution_count": 38,
     "metadata": {},
     "output_type": "execute_result"
    }
   ],
   "source": [
    "df['SCS260'].unique()\n",
    "df['SCS260'].value_counts()"
   ]
  },
  {
   "cell_type": "code",
   "execution_count": 39,
   "metadata": {},
   "outputs": [
    {
     "name": "stdout",
     "output_type": "stream",
     "text": [
      "male= 0.0686427457098284\n",
      "female= 0.027220630372492838\n"
     ]
    }
   ],
   "source": [
    "df.rename(columns = {'SCS260':'gym'}, inplace = True)\n",
    "print('male=', len(df[(df['gender']==1) & (df['gym']=='(1) Response selected')])/male_bullied)\n",
    "print('female=', len(df[(df['gender']==0) & (df['gym']=='(1) Response selected')])/female_bullied)"
   ]
  },
  {
   "cell_type": "markdown",
   "metadata": {},
   "source": [
    "## 2.5 CAFETERIA OR LUNCHROOM \n"
   ]
  },
  {
   "cell_type": "code",
   "execution_count": 40,
   "metadata": {},
   "outputs": [
    {
     "data": {
      "text/plain": [
       "array([nan, '(1) In a cafeteria or lunchroom at school',\n",
       "       '(0) Not selected ', '(8) Residue '], dtype=object)"
      ]
     },
     "execution_count": 40,
     "metadata": {},
     "output_type": "execute_result"
    },
    {
     "data": {
      "text/plain": [
       "(0) Not selected                             575\n",
       "(1) In a cafeteria or lunchroom at school    222\n",
       "(8) Residue                                   19\n",
       "Name: VS0087, dtype: int64"
      ]
     },
     "execution_count": 40,
     "metadata": {},
     "output_type": "execute_result"
    },
    {
     "data": {
      "text/plain": [
       "array([nan, '(1) Response selected', '(0) Response not selected',\n",
       "       '(8) Residue'], dtype=object)"
      ]
     },
     "execution_count": 40,
     "metadata": {},
     "output_type": "execute_result"
    },
    {
     "data": {
      "text/plain": [
       "(0) Response not selected    392\n",
       "(1) Response selected        136\n",
       "(8) Residue                   16\n",
       "Name: SCS261, dtype: int64"
      ]
     },
     "execution_count": 40,
     "metadata": {},
     "output_type": "execute_result"
    }
   ],
   "source": [
    "df['VS0087'].unique()\n",
    "df['VS0087'].value_counts()\n",
    "\n",
    "df['SCS261'].unique()\n",
    "df['SCS261'].value_counts()"
   ]
  },
  {
   "cell_type": "code",
   "execution_count": 41,
   "metadata": {},
   "outputs": [
    {
     "data": {
      "text/plain": [
       "0    13915\n",
       "1      358\n",
       "Name: cafe, dtype: int64"
      ]
     },
     "execution_count": 41,
     "metadata": {},
     "output_type": "execute_result"
    },
    {
     "name": "stdout",
     "output_type": "stream",
     "text": [
      "male= 0.2745709828393136\n",
      "female= 0.2607449856733524\n"
     ]
    }
   ],
   "source": [
    "def cafe(row):\n",
    "    if row['VS0087'] == '(1) In a cafeteria or lunchroom at school' or row['SCS261'] == '(1) Response selected' :\n",
    "        return 1\n",
    "    else:\n",
    "        return 0\n",
    "df['cafe'] = df.apply(cafe, axis=1)\n",
    "df.drop('VS0087', axis = 1, inplace = True)\n",
    "df.drop('SCS261', axis = 1, inplace = True)\n",
    "df['cafe'].value_counts()\n",
    "\n",
    "print('male=', len(df[(df['gender']==1) & (df['cafe']==1)])/male_bullied)\n",
    "print('female=', len(df[(df['gender']==0) & (df['cafe']==1)])/female_bullied)"
   ]
  },
  {
   "cell_type": "markdown",
   "metadata": {},
   "source": [
    "## 2.6  SOMEWHERE ELSE INSIDE THE SCHOOL BUILDING "
   ]
  },
  {
   "cell_type": "code",
   "execution_count": 42,
   "metadata": {},
   "outputs": [
    {
     "data": {
      "text/plain": [
       "array([nan, '(0) Not selected ', '(8) Residue ',\n",
       "       '(1) Somewhere else inside the school building'], dtype=object)"
      ]
     },
     "execution_count": 42,
     "metadata": {},
     "output_type": "execute_result"
    },
    {
     "data": {
      "text/plain": [
       "(0) Not selected                                 774\n",
       "(1) Somewhere else inside the school building     23\n",
       "(8) Residue                                       19\n",
       "Name: VS0084, dtype: int64"
      ]
     },
     "execution_count": 42,
     "metadata": {},
     "output_type": "execute_result"
    },
    {
     "data": {
      "text/plain": [
       "array([nan, '(0) Response not selected', '(1) Response selected',\n",
       "       '(8) Residue'], dtype=object)"
      ]
     },
     "execution_count": 42,
     "metadata": {},
     "output_type": "execute_result"
    },
    {
     "data": {
      "text/plain": [
       "(0) Response not selected    517\n",
       "(8) Residue                   16\n",
       "(1) Response selected         11\n",
       "Name: SCS265, dtype: int64"
      ]
     },
     "execution_count": 42,
     "metadata": {},
     "output_type": "execute_result"
    }
   ],
   "source": [
    "df['VS0084'].unique()\n",
    "df['VS0084'].value_counts()\n",
    "\n",
    "df['SCS265'].unique()\n",
    "df['SCS265'].value_counts()"
   ]
  },
  {
   "cell_type": "code",
   "execution_count": 43,
   "metadata": {},
   "outputs": [
    {
     "data": {
      "text/plain": [
       "0    14239\n",
       "1       34\n",
       "Name: swhelse, dtype: int64"
      ]
     },
     "execution_count": 43,
     "metadata": {},
     "output_type": "execute_result"
    },
    {
     "name": "stdout",
     "output_type": "stream",
     "text": [
      "male= 0.0218408736349454\n",
      "female= 0.02865329512893983\n"
     ]
    }
   ],
   "source": [
    "def swhelse(row):\n",
    "    if row['VS0084'] == '(1) Somewhere else inside the school building' or row['SCS265'] == '(1) Response selected' :\n",
    "        return 1\n",
    "    else:\n",
    "        return 0\n",
    "df['swhelse'] = df.apply(swhelse, axis=1)\n",
    "df.drop('VS0084', axis = 1, inplace = True)\n",
    "df.drop('SCS265', axis = 1, inplace = True)\n",
    "df['swhelse'].value_counts()\n",
    "\n",
    "print('male=', len(df[(df['gender']==1) & (df['swhelse']==1)])/male_bullied)\n",
    "print('female=', len(df[(df['gender']==0) & (df['swhelse']==1)])/female_bullied)"
   ]
  },
  {
   "cell_type": "markdown",
   "metadata": {},
   "source": [
    "## 2.7 OUTSIDE ON SCHOOL GROUNDS"
   ]
  },
  {
   "cell_type": "code",
   "execution_count": 44,
   "metadata": {},
   "outputs": [
    {
     "data": {
      "text/plain": [
       "array([nan, '(0) Not selected ', '(1) Outside on school grounds',\n",
       "       '(8) Residue '], dtype=object)"
      ]
     },
     "execution_count": 44,
     "metadata": {},
     "output_type": "execute_result"
    },
    {
     "data": {
      "text/plain": [
       "(0) Not selected                 636\n",
       "(1) Outside on school grounds    161\n",
       "(8) Residue                       19\n",
       "Name: VS0085, dtype: int64"
      ]
     },
     "execution_count": 44,
     "metadata": {},
     "output_type": "execute_result"
    },
    {
     "data": {
      "text/plain": [
       "array([nan, '(0) Response not selected', '(1) Response selected',\n",
       "       '(8) Residue'], dtype=object)"
      ]
     },
     "execution_count": 44,
     "metadata": {},
     "output_type": "execute_result"
    },
    {
     "data": {
      "text/plain": [
       "(0) Response not selected    412\n",
       "(1) Response selected        116\n",
       "(8) Residue                   16\n",
       "Name: SCS262, dtype: int64"
      ]
     },
     "execution_count": 44,
     "metadata": {},
     "output_type": "execute_result"
    }
   ],
   "source": [
    "df['VS0085'].unique()\n",
    "df['VS0085'].value_counts()\n",
    "\n",
    "df['SCS262'].unique()\n",
    "df['SCS262'].value_counts()"
   ]
  },
  {
   "cell_type": "code",
   "execution_count": 45,
   "metadata": {},
   "outputs": [
    {
     "data": {
      "text/plain": [
       "0    13996\n",
       "1      277\n",
       "Name: outside, dtype: int64"
      ]
     },
     "execution_count": 45,
     "metadata": {},
     "output_type": "execute_result"
    },
    {
     "name": "stdout",
     "output_type": "stream",
     "text": [
      "male= 0.21684867394695787\n",
      "female= 0.1977077363896848\n"
     ]
    }
   ],
   "source": [
    "def outside(row):\n",
    "    if row['VS0085'] == '(1) Outside on school grounds' or row['SCS262'] == '(1) Response selected' :\n",
    "        return 1\n",
    "    else:\n",
    "        return 0\n",
    "df['outside'] = df.apply(outside, axis=1)\n",
    "df.drop('VS0085', axis = 1, inplace = True)\n",
    "df.drop('SCS262', axis = 1, inplace = True)\n",
    "df['outside'].value_counts()\n",
    "\n",
    "print('male=', len(df[(df['gender']==1) & (df['outside']==1)])/male_bullied)\n",
    "print('female=', len(df[(df['gender']==0) & (df['outside']==1)])/female_bullied)"
   ]
  },
  {
   "cell_type": "markdown",
   "metadata": {},
   "source": [
    "## 2.8 SCHOOL BUS OR AT A BUS STOP"
   ]
  },
  {
   "cell_type": "code",
   "execution_count": 46,
   "metadata": {},
   "outputs": [
    {
     "data": {
      "text/plain": [
       "array([nan, '(0) Not selected ',\n",
       "       '(1) On the way to or from school such as on a school bus or at a bus stop',\n",
       "       '(8) Residue '], dtype=object)"
      ]
     },
     "execution_count": 46,
     "metadata": {},
     "output_type": "execute_result"
    },
    {
     "data": {
      "text/plain": [
       "(0) Not selected                                                             705\n",
       "(1) On the way to or from school such as on a school bus or at a bus stop     92\n",
       "(8) Residue                                                                   19\n",
       "Name: VS0086, dtype: int64"
      ]
     },
     "execution_count": 46,
     "metadata": {},
     "output_type": "execute_result"
    },
    {
     "data": {
      "text/plain": [
       "array([nan, '(0) Response not selected', '(8) Residue',\n",
       "       '(1) Response selected'], dtype=object)"
      ]
     },
     "execution_count": 46,
     "metadata": {},
     "output_type": "execute_result"
    },
    {
     "data": {
      "text/plain": [
       "(0) Response not selected    494\n",
       "(1) Response selected         34\n",
       "(8) Residue                   16\n",
       "Name: SCS263, dtype: int64"
      ]
     },
     "execution_count": 46,
     "metadata": {},
     "output_type": "execute_result"
    }
   ],
   "source": [
    "df['VS0086'].unique()\n",
    "df['VS0086'].value_counts()\n",
    "\n",
    "df['SCS263'].unique()\n",
    "df['SCS263'].value_counts()"
   ]
  },
  {
   "cell_type": "code",
   "execution_count": 47,
   "metadata": {},
   "outputs": [
    {
     "data": {
      "text/plain": [
       "0    14147\n",
       "1      126\n",
       "Name: bus, dtype: int64"
      ]
     },
     "execution_count": 47,
     "metadata": {},
     "output_type": "execute_result"
    },
    {
     "name": "stdout",
     "output_type": "stream",
     "text": [
      "male= 0.0967238689547582\n",
      "female= 0.09169054441260745\n"
     ]
    }
   ],
   "source": [
    "def bus(row):\n",
    "    if row['VS0086'] == '(1) On the way to or from school such as on a school bus or at a bus stop' or row['SCS263'] == '(1) Response selected' :\n",
    "        return 1\n",
    "    else:\n",
    "        return 0\n",
    "df['bus'] = df.apply(bus, axis=1)\n",
    "df.drop('VS0086', axis = 1, inplace = True)\n",
    "df.drop('SCS263', axis = 1, inplace = True)\n",
    "df['bus'].value_counts()\n",
    "\n",
    "print('male=', len(df[(df['gender']==1) & (df['bus']==1)])/male_bullied)\n",
    "print('female=', len(df[(df['gender']==0) & (df['bus']==1)])/female_bullied)"
   ]
  },
  {
   "cell_type": "markdown",
   "metadata": {},
   "source": [
    "## 2.9 Online or by text"
   ]
  },
  {
   "cell_type": "code",
   "execution_count": 48,
   "metadata": {},
   "outputs": [
    {
     "data": {
      "text/plain": [
       "array([nan, '(0) Not selected ', '(1) Online or by text', '(8) Residue '],\n",
       "      dtype=object)"
      ]
     },
     "execution_count": 48,
     "metadata": {},
     "output_type": "execute_result"
    },
    {
     "data": {
      "text/plain": [
       "(0) Not selected         662\n",
       "(1) Online or by text    135\n",
       "(8) Residue               19\n",
       "Name: SCS211, dtype: int64"
      ]
     },
     "execution_count": 48,
     "metadata": {},
     "output_type": "execute_result"
    },
    {
     "data": {
      "text/plain": [
       "array([nan, '(1) Response selected', '(0) Response not selected',\n",
       "       '(8) Residue'], dtype=object)"
      ]
     },
     "execution_count": 48,
     "metadata": {},
     "output_type": "execute_result"
    },
    {
     "data": {
      "text/plain": [
       "(0) Response not selected    439\n",
       "(1) Response selected         89\n",
       "(8) Residue                   16\n",
       "Name: SCS264, dtype: int64"
      ]
     },
     "execution_count": 48,
     "metadata": {},
     "output_type": "execute_result"
    }
   ],
   "source": [
    "df['SCS211'].unique()\n",
    "df['SCS211'].value_counts()\n",
    "\n",
    "df['SCS264'].unique()\n",
    "df['SCS264'].value_counts()"
   ]
  },
  {
   "cell_type": "code",
   "execution_count": 49,
   "metadata": {},
   "outputs": [
    {
     "data": {
      "text/plain": [
       "0    14049\n",
       "1      224\n",
       "Name: online, dtype: int64"
      ]
     },
     "execution_count": 49,
     "metadata": {},
     "output_type": "execute_result"
    },
    {
     "name": "stdout",
     "output_type": "stream",
     "text": [
      "male= 0.08892355694227769\n",
      "female= 0.23925501432664756\n"
     ]
    }
   ],
   "source": [
    "def online(row):\n",
    "    if row['SCS211'] == '(1) Online or by text' or row['SCS264'] == '(1) Response selected' :\n",
    "        return 1\n",
    "    else:\n",
    "        return 0\n",
    "df['online'] = df.apply(online, axis=1)\n",
    "df.drop('SCS211', axis = 1, inplace = True)\n",
    "df.drop('SCS264', axis = 1, inplace = True)\n",
    "df['online'].value_counts()\n",
    "\n",
    "print('male=', len(df[(df['gender']==1) & (df['online']==1)])/male_bullied)\n",
    "print('female=', len(df[(df['gender']==0) & (df['online']==1)])/female_bullied)"
   ]
  },
  {
   "cell_type": "markdown",
   "metadata": {},
   "source": [
    "# Victims' impression on the bullies"
   ]
  },
  {
   "cell_type": "code",
   "execution_count": 50,
   "metadata": {},
   "outputs": [
    {
     "data": {
      "text/plain": [
       "array([nan, '(02) No ', '(01) Yes ', '(08) Residue ', \"(99) Don't know \",\n",
       "       '(98) Refused '], dtype=object)"
      ]
     },
     "execution_count": 50,
     "metadata": {},
     "output_type": "execute_result"
    },
    {
     "data": {
      "text/plain": [
       "(02) No             489\n",
       "(01) Yes            306\n",
       "(08) Residue         19\n",
       "(99) Don't know      11\n",
       "(98) Refused          1\n",
       "Name: VS0093, dtype: int64"
      ]
     },
     "execution_count": 50,
     "metadata": {},
     "output_type": "execute_result"
    },
    {
     "data": {
      "text/plain": [
       "array([nan, '(02) No', '(01) Yes', '(08) Residue', \"(99) Don't know\"],\n",
       "      dtype=object)"
      ]
     },
     "execution_count": 50,
     "metadata": {},
     "output_type": "execute_result"
    },
    {
     "data": {
      "text/plain": [
       "(02) No            345\n",
       "(01) Yes           184\n",
       "(08) Residue        16\n",
       "(99) Don't know      4\n",
       "Name: SCS249, dtype: int64"
      ]
     },
     "execution_count": 50,
     "metadata": {},
     "output_type": "execute_result"
    }
   ],
   "source": [
    "# Physically bigger and Stronger\n",
    "df['VS0093'].unique()\n",
    "df['VS0093'].value_counts()\n",
    "\n",
    "df['SCS249'].unique()\n",
    "df['SCS249'].value_counts()"
   ]
  },
  {
   "cell_type": "code",
   "execution_count": 51,
   "metadata": {},
   "outputs": [
    {
     "name": "stdout",
     "output_type": "stream",
     "text": [
      "male stronger= 0.36817472698907955\n",
      "female stonger = 0.3638968481375358\n"
     ]
    }
   ],
   "source": [
    "print('male stronger=', len(df[(df['gender']==1) & ((df['VS0093']=='(01) Yes ')|(df['SCS249'] == '(01) Yes'))])/male_bullied)\n",
    "print('female stonger =', len(df[(df['gender']==0) & ((df['VS0093']=='(01) Yes ')|(df['SCS249'] == '(01) Yes'))])/female_bullied)"
   ]
  },
  {
   "cell_type": "code",
   "execution_count": 52,
   "metadata": {},
   "outputs": [
    {
     "name": "stdout",
     "output_type": "stream",
     "text": [
      "male popular= 0.46177847113884557\n",
      "female popular = 0.48424068767908307\n",
      "male richer= 0.296411856474259\n",
      "female richer = 0.3108882521489971\n",
      "male influence= 0.46333853354134164\n",
      "female influence = 0.5974212034383954\n",
      "male more power= 0.20124804992199688\n",
      "female more power = 0.1819484240687679\n"
     ]
    }
   ],
   "source": [
    "print('male popular=', len(df[(df['gender']==1) & ((df['VS0094']=='(01) Yes ')|(df['SCS250'] == '(01) Yes'))])/male_bullied)\n",
    "print('female popular =', len(df[(df['gender']==0) & ((df['VS0094']=='(01) Yes ')|(df['SCS250'] == '(01) Yes'))])/female_bullied)\n",
    "print('male richer=', len(df[(df['gender']==1) & ((df['VS0095']=='(01) Yes ')|(df['SCS251'] == '(01) Yes'))])/male_bullied)\n",
    "print('female richer =', len(df[(df['gender']==0) & ((df['VS0095']=='(01) Yes ')|(df['SCS251'] == '(01) Yes'))])/female_bullied)\n",
    "print('male influence=', len(df[(df['gender']==1) & ((df['VS0096']=='(01) Yes ')|(df['SCS252'] == '(01) Yes'))])/male_bullied)\n",
    "print('female influence =', len(df[(df['gender']==0) & ((df['VS0096']=='(01) Yes ')|(df['SCS252'] == '(01) Yes'))])/female_bullied)\n",
    "print('male more power=', len(df[(df['gender']==1) & ((df['VS0097']=='(01) Yes ')|(df['SCS253'] == '(01) Yes'))])/male_bullied)\n",
    "print('female more power =', len(df[(df['gender']==0) & ((df['VS0097']=='(01) Yes ')|(df['SCS253'] == '(01) Yes'))])/female_bullied)\n"
   ]
  },
  {
   "cell_type": "markdown",
   "metadata": {},
   "source": [
    "# victim's speculation on reasons"
   ]
  },
  {
   "cell_type": "code",
   "execution_count": 53,
   "metadata": {},
   "outputs": [
    {
     "data": {
      "text/plain": [
       "array([nan, '(02) No', '(08) Residue', '(01) Yes', '(98) Refused',\n",
       "       \"(99) Don't know\"], dtype=object)"
      ]
     },
     "execution_count": 53,
     "metadata": {},
     "output_type": "execute_result"
    }
   ],
   "source": [
    "df['SCS200'].unique()"
   ]
  },
  {
   "cell_type": "code",
   "execution_count": 54,
   "metadata": {},
   "outputs": [
    {
     "name": "stdout",
     "output_type": "stream",
     "text": [
      "female race =  0.07593123209169055\n",
      "male race =  0.062402496099843996\n",
      "female religion =  0.02005730659025788\n",
      "male religion =  0.0202808112324493\n",
      "female ethnic =  0.03868194842406877\n",
      "male ethnic =  0.031201248049921998\n",
      "female disability =  0.03724928366762178\n",
      "male disability =  0.062402496099843996\n",
      "female gender =  0.05873925501432665\n",
      "male gender =  0.014040561622464899\n",
      "female sexual =  0.03151862464183381\n",
      "male sexual =  0.015600624024960999\n",
      "female appearance =  0.18624641833810887\n",
      "male apearance =  0.1747269890795632\n"
     ]
    }
   ],
   "source": [
    "print('female race = ', len(df[(df['SCS200'] == '(01) Yes') & (df['gender'] == 0)])/female_bullied)\n",
    "print('male race = ', len(df[(df['SCS200'] == '(01) Yes') & (df['gender'] == 1)])/male_bullied)\n",
    "print('female religion = ', len(df[(df['SCS201'] == '(01) Yes') & (df['gender'] == 0)])/female_bullied)\n",
    "print('male religion = ', len(df[(df['SCS201'] == '(01) Yes') & (df['gender'] == 1)])/male_bullied)\n",
    "print('female ethnic = ', len(df[(df['SCS202'] == '(01) Yes') & (df['gender'] == 0)])/female_bullied)\n",
    "print('male ethnic = ', len(df[(df['SCS202'] == '(01) Yes') & (df['gender'] == 1)])/male_bullied)\n",
    "print('female disability = ', len(df[(df['SCS203'] == '(01) Yes') & (df['gender'] == 0)])/female_bullied)\n",
    "print('male disability = ', len(df[(df['SCS203'] == '(01) Yes') & (df['gender'] == 1)])/male_bullied)\n",
    "print('female gender = ', len(df[(df['SCS204'] == '(01) Yes') & (df['gender'] == 0)])/female_bullied)\n",
    "print('male gender = ', len(df[(df['SCS204'] == '(01) Yes') & (df['gender'] == 1)])/male_bullied)\n",
    "print('female sexual = ', len(df[(df['SCS205'] == '(01) Yes') & (df['gender'] == 0)])/female_bullied)\n",
    "print('male sexual = ', len(df[(df['SCS205'] == '(01) Yes') & (df['gender'] == 1)])/male_bullied)\n",
    "print('female appearance = ', len(df[(df['SCS206'] == '(01) Yes') & (df['gender'] == 0)])/female_bullied)\n",
    "print('male apearance = ', len(df[(df['SCS206'] == '(01) Yes') & (df['gender'] == 1)])/male_bullied)"
   ]
  },
  {
   "cell_type": "markdown",
   "metadata": {},
   "source": [
    "# Negative Effects"
   ]
  },
  {
   "cell_type": "code",
   "execution_count": 55,
   "metadata": {},
   "outputs": [
    {
     "data": {
      "text/plain": [
       "array([nan, '(02) Not very much', '(01) Not at all', '(03) Somewhat',\n",
       "       '(04) A lot', '(08) Residue', '(98) Refused'], dtype=object)"
      ]
     },
     "execution_count": 55,
     "metadata": {},
     "output_type": "execute_result"
    }
   ],
   "source": [
    "df['SCS267'].unique()"
   ]
  },
  {
   "cell_type": "code",
   "execution_count": 56,
   "metadata": {},
   "outputs": [
    {
     "name": "stdout",
     "output_type": "stream",
     "text": [
      "female school work =  0.08739255014326648\n",
      "male school work =  0.046801872074883\n",
      "female relation with fam or friends =  0.07163323782234957\n",
      "male relation with fam or friends =  0.0452418096723869\n",
      "female feel about yourself =  0.10458452722063037\n",
      "male feel about yourself =  0.07644305772230889\n",
      "female physical health =  0.050143266475644696\n",
      "male physical health =  0.0249609984399376\n"
     ]
    }
   ],
   "source": [
    "print('female school work = ', len(df[((df['SCS267'] == '(03) Somewhat')|(df['SCS267'] == '(04) A lot')) & (df['gender'] == 0)])/female_bullied)\n",
    "print('male school work = ', len(df[((df['SCS267'] == '(03) Somewhat')|(df['SCS267'] == '(04) A lot')) & (df['gender'] == 1)])/male_bullied)\n",
    "print('female relation with fam or friends = ', len(df[((df['SCS268'] == '(03) Somewhat')|(df['SCS268'] == '(04) A lot')) & (df['gender'] == 0)])/female_bullied)\n",
    "print('male relation with fam or friends = ', len(df[((df['SCS268'] == '(03) Somewhat')|(df['SCS268'] == '(04) A lot')) & (df['gender'] == 1)])/male_bullied)\n",
    "print('female feel about yourself = ', len(df[((df['SCS269'] == '(03) Somewhat')|(df['SCS269'] == '(04) A lot')) & (df['gender'] == 0)])/female_bullied)\n",
    "print('male feel about yourself = ', len(df[((df['SCS269'] == '(03) Somewhat')|(df['SCS269'] == '(04) A lot')) & (df['gender'] == 1)])/male_bullied)\n",
    "print('female physical health = ', len(df[((df['SCS270'] == '(03) Somewhat')|(df['SCS270'] == '(04) A lot')) & (df['gender'] == 0)])/female_bullied)\n",
    "print('male physical health = ', len(df[((df['SCS270'] == '(03) Somewhat')|(df['SCS270'] == '(04) A lot')) & (df['gender'] == 1)])/male_bullied)"
   ]
  },
  {
   "cell_type": "markdown",
   "metadata": {},
   "source": [
    "# Clean data for ML model"
   ]
  },
  {
   "cell_type": "markdown",
   "metadata": {},
   "source": [
    "### Rename and group "
   ]
  },
  {
   "cell_type": "code",
   "execution_count": 57,
   "metadata": {},
   "outputs": [
    {
     "data": {
      "text/plain": [
       "Index(['shared_info', 'SCS278', 'VS0090', 'SCS248', 'VS0091', 'VS0092',\n",
       "       'SCS243', 'SCS244', 'VS0093', 'SCS249', 'VS0094', 'SCS250', 'VS0095',\n",
       "       'VS0096', 'VS0097', 'SCS251', 'SCS252', 'SCS253', 'SCS200', 'SCS201',\n",
       "       'SCS202', 'SCS203', 'SCS204', 'SCS205', 'SCS206', 'gym', 'SCS267',\n",
       "       'SCS268', 'SCS269', 'SCS270', 'V3014', 'gender', 'V3023A', 'V3024',\n",
       "       'V3_V4526H3A', 'V3_V4526H3B', 'V3_V4526H5', 'V3_V4526H4', 'V3083',\n",
       "       'V3084', 'V3085', 'VS0024', 'VS0029', 'VS0030', 'VS0031', 'VS0032',\n",
       "       'VS0033', 'VS0034', 'VS0035', 'VS0138', 'VS0136', 'SC214A', 'VS0146',\n",
       "       'VS0148', 'SCS186', 'SCS187', 'SCS214', 'VS0019', 'SCS215', 'VS0021',\n",
       "       'SCS216', 'SCS218', 'VS0036', 'VS0037', 'VS0041', 'VS0043', 'VS0044',\n",
       "       'VS0050', 'VS0051', 'VS0053', 'SCS230', 'SCS231', 'insulted', 'rumors',\n",
       "       'threaten', 'spit', 'force', 'exclude', 'destroy_property', 'bullied',\n",
       "       'classroom', 'hallway', 'bathroom', 'cafe', 'swhelse', 'outside', 'bus',\n",
       "       'online'],\n",
       "      dtype='object')"
      ]
     },
     "execution_count": 57,
     "metadata": {},
     "output_type": "execute_result"
    }
   ],
   "source": [
    "df.columns"
   ]
  },
  {
   "cell_type": "code",
   "execution_count": 58,
   "metadata": {},
   "outputs": [
    {
     "data": {
      "text/plain": [
       "14    2115\n",
       "12    2098\n",
       "18    2098\n",
       "13    2053\n",
       "16    2027\n",
       "17    1961\n",
       "15    1921\n",
       "Name: age, dtype: int64"
      ]
     },
     "execution_count": 58,
     "metadata": {},
     "output_type": "execute_result"
    }
   ],
   "source": [
    "df.rename(columns = {'V3014':'age'}, inplace = True)\n",
    "df['age'].value_counts()"
   ]
  },
  {
   "cell_type": "code",
   "execution_count": 59,
   "metadata": {},
   "outputs": [
    {
     "data": {
      "text/plain": [
       "1    6266\n",
       "3    4059\n",
       "2    3948\n",
       "Name: age_grouped, dtype: int64"
      ]
     },
     "execution_count": 59,
     "metadata": {},
     "output_type": "execute_result"
    }
   ],
   "source": [
    "df['age_grouped'] = [1 if x >=12 and x<=14 else(2 if x==15 or x==16 else 3) for x in df['age']]\n",
    "df['age_grouped'].value_counts()"
   ]
  },
  {
   "cell_type": "code",
   "execution_count": 60,
   "metadata": {},
   "outputs": [
    {
     "data": {
      "text/plain": [
       "(2) Straight, that is, not lesbian or gay    2860\n",
       "(3) Bisexual                                   92\n",
       "(6) Refused                                    36\n",
       "(5) I don't know the answer                    35\n",
       "(1) Lesbian or gay                             34\n",
       "(4) Something else                             15\n",
       "(8) Residue                                     9\n",
       "Name: V3084, dtype: int64"
      ]
     },
     "execution_count": 60,
     "metadata": {},
     "output_type": "execute_result"
    },
    {
     "data": {
      "text/plain": [
       "array([nan, '(2) Straight, that is, not lesbian or gay', '(3) Bisexual',\n",
       "       '(4) Something else', '(6) Refused', '(1) Lesbian or gay',\n",
       "       \"(5) I don't know the answer\", '(8) Residue'], dtype=object)"
      ]
     },
     "execution_count": 60,
     "metadata": {},
     "output_type": "execute_result"
    }
   ],
   "source": [
    "df['V3084'].value_counts()\n",
    "df['V3084'].unique()"
   ]
  },
  {
   "cell_type": "code",
   "execution_count": 61,
   "metadata": {},
   "outputs": [
    {
     "data": {
      "text/plain": [
       "1    14132\n",
       "3       92\n",
       "2       34\n",
       "4       15\n",
       "Name: sexual_orientation, dtype: int64"
      ]
     },
     "execution_count": 61,
     "metadata": {},
     "output_type": "execute_result"
    }
   ],
   "source": [
    "def sex_orientation(row): \n",
    "    if row['V3084'] == '(2) Straight, that is, not lesbian or gay':\n",
    "        return 1\n",
    "    elif row['V3084'] =='(1) Lesbian or gay':\n",
    "        return 2\n",
    "    elif row['V3084'] =='(3) Bisexual':\n",
    "        return 3\n",
    "    elif row['V3084'] == '(4) Something else':\n",
    "        return 4\n",
    "    else:\n",
    "        return 1\n",
    "df['sexual_orientation'] = df.apply(sex_orientation, axis = 1)\n",
    "df['sexual_orientation'].value_counts()"
   ]
  },
  {
   "cell_type": "code",
   "execution_count": 62,
   "metadata": {},
   "outputs": [
    {
     "data": {
      "text/plain": [
       "(01) White only                    11246\n",
       "(02) Black only                     1631\n",
       "(04) Asian only                      720\n",
       "(06) White-Black                     226\n",
       "(08) White-Asian                     139\n",
       "(03) Am Ind/AK native only            93\n",
       "(07) White-Amer Ind                   88\n",
       "(05) Hawaiian/Pacific IS only         49\n",
       "(09) White-Hawaiian                   23\n",
       "(10) Black-Amer Ind                   14\n",
       "(15) White-Black-American Ind         11\n",
       "(16) White-Black-Asian                 9\n",
       "(11) Black-Asian                       8\n",
       "(19) 2 or 3 races                      7\n",
       "(13) American Indian-Asian             3\n",
       "(14) Asian-Hawaiian/Pacific Ils        2\n",
       "(20) 4 or 5 races                      2\n",
       "(18) White-Asian-Hawaiian              2\n",
       "Name: V3023A, dtype: int64"
      ]
     },
     "execution_count": 62,
     "metadata": {},
     "output_type": "execute_result"
    }
   ],
   "source": [
    "df['V3023A'].value_counts()"
   ]
  },
  {
   "cell_type": "code",
   "execution_count": 63,
   "metadata": {},
   "outputs": [
    {
     "data": {
      "text/plain": [
       "(2) No         11175\n",
       "(1) Yes         3054\n",
       "(8) Residue       44\n",
       "Name: V3024, dtype: int64"
      ]
     },
     "execution_count": 63,
     "metadata": {},
     "output_type": "execute_result"
    }
   ],
   "source": [
    "df['V3024'].value_counts()"
   ]
  },
  {
   "cell_type": "code",
   "execution_count": 64,
   "metadata": {},
   "outputs": [
    {
     "data": {
      "text/plain": [
       "2    8346\n",
       "1    3054\n",
       "3    1561\n",
       "4     707\n",
       "5     605\n",
       "Name: race, dtype: int64"
      ]
     },
     "execution_count": 64,
     "metadata": {},
     "output_type": "execute_result"
    }
   ],
   "source": [
    "def race(row):\n",
    "    if row['V3024'] == '(1) Yes':\n",
    "        return 1\n",
    "    elif row['V3024'] == '(2) No' and row['V3023A'] =='(01) White only' :\n",
    "        return 2\n",
    "    elif row['V3024'] == '(2) No' and row['V3023A'] =='(02) Black only' :\n",
    "        return 3\n",
    "    elif row['V3024'] == '(2) No' and row['V3023A'] =='(04) Asian only' :\n",
    "        return 4\n",
    "    elif row['V3024'] == None:\n",
    "        return None\n",
    "    else:\n",
    "        return 5\n",
    "df['race']=df.apply(race, axis = 1)\n",
    "df['race'].value_counts()"
   ]
  },
  {
   "cell_type": "code",
   "execution_count": 65,
   "metadata": {},
   "outputs": [
    {
     "data": {
      "text/plain": [
       "(1) Yes, born in the United States                                                   7610\n",
       "(5) No, not a citizen                                                                 249\n",
       "(4) Yes, citizen by naturalization                                                    152\n",
       "(2) Yes, born in Puerto Rico, Guam, the U.S. Virgin Islands, or Northern Marianas      43\n",
       "(8) Residue                                                                            31\n",
       "(3) Yes, born abroad of U.S. citizen parent or parents                                 30\n",
       "Name: V3083, dtype: int64"
      ]
     },
     "execution_count": 65,
     "metadata": {},
     "output_type": "execute_result"
    }
   ],
   "source": [
    "df['V3083'].value_counts()"
   ]
  },
  {
   "cell_type": "code",
   "execution_count": 66,
   "metadata": {},
   "outputs": [
    {
     "data": {
      "text/plain": [
       "1    13872\n",
       "0      249\n",
       "2      152\n",
       "Name: citizen, dtype: int64"
      ]
     },
     "execution_count": 66,
     "metadata": {},
     "output_type": "execute_result"
    }
   ],
   "source": [
    "def citizen(row):\n",
    "    if row['V3083'] == '(5) No, not a citizen':\n",
    "        return 0\n",
    "    elif row['V3083'] == '(1) Yes, born in the United States' or row['V3083'] == '(2) Yes, born in Puerto Rico, Guam, the U.S. Virgin Islands, or Northern Marianas' or row['V3083'] == '(3) Yes, born abroad of U.S. citizen parent or parents':\n",
    "        return 1\n",
    "    elif row['V3083'] == '(4) Yes, citizen by naturalization':\n",
    "        return 2\n",
    "    else:\n",
    "        return 1\n",
    "df['citizen'] = df.apply(citizen, axis=1)\n",
    "df['citizen'].value_counts()"
   ]
  },
  {
   "cell_type": "code",
   "execution_count": 67,
   "metadata": {},
   "outputs": [
    {
     "data": {
      "text/plain": [
       "(2) No         8020\n",
       "(1) Yes          81\n",
       "(8) Residue      14\n",
       "Name: V3_V4526H4, dtype: int64"
      ]
     },
     "execution_count": 67,
     "metadata": {},
     "output_type": "execute_result"
    }
   ],
   "source": [
    "df['V3_V4526H4'].value_counts()"
   ]
  },
  {
   "cell_type": "code",
   "execution_count": 68,
   "metadata": {},
   "outputs": [
    {
     "data": {
      "text/plain": [
       "0    14088\n",
       "1      185\n",
       "Name: physical_disability, dtype: int64"
      ]
     },
     "execution_count": 68,
     "metadata": {},
     "output_type": "execute_result"
    }
   ],
   "source": [
    "def physical_disability(row):\n",
    "    if row['V3_V4526H3A'] == '(1) Yes' or row['V3_V4526H3B'] == '(1) Yes' or row['V3_V4526H4'] == '(1) Yes':\n",
    "        return 1\n",
    "    elif row['V3_V4526H3A'] == None and row['V3_V4526H3B'] == None and row['V3_V4526H4'] == None:\n",
    "        return None\n",
    "    else:\n",
    "        return 0\n",
    "df['physical_disability'] = df.apply(physical_disability, axis = 1)\n",
    "df['physical_disability'].value_counts()"
   ]
  },
  {
   "cell_type": "code",
   "execution_count": 69,
   "metadata": {},
   "outputs": [],
   "source": [
    "df.rename(columns = {'V3_V4526H5':'learning_disability'}, inplace = True)"
   ]
  },
  {
   "cell_type": "code",
   "execution_count": 70,
   "metadata": {},
   "outputs": [],
   "source": [
    "def learning(r):\n",
    "    if r['learning_disability'] == '(1) Yes' or r['learning_disability'] == '(1) Yes' or r['learning_disability'] == '(1) Yes':\n",
    "        return 1\n",
    "    elif r['learning_disability'] == None and r['learning_disability'] == None and r['learning_disability'] == None:\n",
    "        return None\n",
    "    else:\n",
    "        return 0\n",
    "df['learning_disability']  = df.apply(learning, axis=1)"
   ]
  },
  {
   "cell_type": "code",
   "execution_count": 71,
   "metadata": {},
   "outputs": [
    {
     "data": {
      "text/plain": [
       "0    13811\n",
       "1      462\n",
       "Name: learning_disability, dtype: int64"
      ]
     },
     "execution_count": 71,
     "metadata": {},
     "output_type": "execute_result"
    }
   ],
   "source": [
    "df['learning_disability'].value_counts()"
   ]
  },
  {
   "cell_type": "code",
   "execution_count": 72,
   "metadata": {},
   "outputs": [
    {
     "data": {
      "text/plain": [
       "(04) Car                                  3165\n",
       "(02) School bus                           2299\n",
       "(01) Walk                                  382\n",
       "(03) Public bus, subway, train             156\n",
       "(98) Refused                                31\n",
       "(05) Bicycle, motorbike, or motorcycle      24\n",
       "(06) Some other way                         15\n",
       "(08) Residue                                 7\n",
       "(99) Don't know                              6\n",
       "Name: transportation, dtype: int64"
      ]
     },
     "execution_count": 72,
     "metadata": {},
     "output_type": "execute_result"
    }
   ],
   "source": [
    "df.rename(columns = {'VS0024': 'transportation'}, inplace =True)\n",
    "df['transportation'].value_counts()"
   ]
  },
  {
   "cell_type": "code",
   "execution_count": 73,
   "metadata": {},
   "outputs": [
    {
     "data": {
      "text/plain": [
       "5.0    3165\n",
       "3.0    2299\n",
       "1.0     382\n",
       "4.0     156\n",
       "2.0      24\n",
       "6.0      15\n",
       "Name: transportation, dtype: int64"
      ]
     },
     "execution_count": 73,
     "metadata": {},
     "output_type": "execute_result"
    }
   ],
   "source": [
    "def transportation(row):\n",
    "    if row['transportation'] == '(01) Walk':\n",
    "        return 1\n",
    "    elif row['transportation'] =='(05) Bicycle, motorbike, or motorcycle':\n",
    "        return 2\n",
    "    elif row['transportation'] == '(02) School bus':\n",
    "        return 3\n",
    "    elif row['transportation'] == '(03) Public bus, subway, train':\n",
    "        return 4\n",
    "    elif row['transportation'] =='(04) Car':\n",
    "        return 5\n",
    "    elif row['transportation'] =='(06) Some other way':\n",
    "        return 6\n",
    "    else:\n",
    "        return None\n",
    "df['transportation'] = df.apply(transportation,axis=1)\n",
    "df['transportation'].value_counts()"
   ]
  },
  {
   "cell_type": "code",
   "execution_count": 74,
   "metadata": {},
   "outputs": [
    {
     "data": {
      "text/plain": [
       "array([nan, '(01) Yes', '(02) No', '(08) Residue', '(98) Refused',\n",
       "       \"(99) Don't know\"], dtype=object)"
      ]
     },
     "execution_count": 74,
     "metadata": {},
     "output_type": "execute_result"
    }
   ],
   "source": [
    "df['VS0029'].unique()"
   ]
  },
  {
   "cell_type": "code",
   "execution_count": 75,
   "metadata": {},
   "outputs": [
    {
     "data": {
      "text/plain": [
       "0    12231\n",
       "1     2042\n",
       "Name: activity, dtype: int64"
      ]
     },
     "execution_count": 75,
     "metadata": {},
     "output_type": "execute_result"
    }
   ],
   "source": [
    "def activity(row):\n",
    "    if row['VS0029'] == '(01) Yes' or row['VS0030'] == '(01) Yes' or row['VS0031'] == '(01) Yes'or row['VS0032'] == '(01) Yes' or row['VS0033'] == '(01) Yes'or row['VS0034'] == '(01) Yes' or row['VS0035'] == '(01) Yes':\n",
    "        return 1\n",
    "    elif row['VS0029'] == None and row['VS0030'] == None and row['VS0031'] == None and row['VS0032'] == None and row['VS0033'] == None and row['VS0034'] == None and row['VS0035'] == None:\n",
    "        return None\n",
    "    else:\n",
    "        return 0\n",
    "df['activity'] = df.apply(activity, axis=1)\n",
    "df['activity'].value_counts()"
   ]
  },
  {
   "cell_type": "code",
   "execution_count": 76,
   "metadata": {},
   "outputs": [
    {
     "data": {
      "text/plain": [
       "array([\"(01) A's \", nan, \"(02) B's \", \"(99) Don't know \", \"(03) C's \",\n",
       "       \"(05) F's \", \"(04) D's \", '(08) Residue ', '(98) Refused ',\n",
       "       '(06) School does not give grades/no alphabetic grade equivalent '],\n",
       "      dtype=object)"
      ]
     },
     "execution_count": 76,
     "metadata": {},
     "output_type": "execute_result"
    }
   ],
   "source": [
    "df['VS0138'].unique()"
   ]
  },
  {
   "cell_type": "code",
   "execution_count": 77,
   "metadata": {},
   "outputs": [
    {
     "data": {
      "text/plain": [
       "1.0    2827\n",
       "2.0    2341\n",
       "3.0     654\n",
       "6.0      66\n",
       "4.0      64\n",
       "Name: grade, dtype: int64"
      ]
     },
     "execution_count": 77,
     "metadata": {},
     "output_type": "execute_result"
    }
   ],
   "source": [
    "def grade(row):\n",
    "    if row['VS0138'] == '(01) A\\'s ':\n",
    "        return 1\n",
    "    elif row['VS0138'] == '(02) B\\'s ':\n",
    "        return 2\n",
    "    elif row['VS0138'] == '(03) C\\'s ':\n",
    "        return 3\n",
    "    elif row['VS0138'] == '(04) D\\'s ':\n",
    "        return 4\n",
    "    elif row['VS0138'] == '(02) F\\'s ':\n",
    "        return 5\n",
    "    elif row['VS0138'] == '(06) School does not give grades/no alphabetic grade equivalent ':\n",
    "        return 6\n",
    "    else:\n",
    "        return None\n",
    "df['grade'] = df.apply(grade,axis=1)\n",
    "df['grade'].value_counts()"
   ]
  },
  {
   "cell_type": "code",
   "execution_count": 78,
   "metadata": {},
   "outputs": [
    {
     "data": {
      "text/plain": [
       "(02) No             5641\n",
       "(01) Yes             342\n",
       "(08) Residue          50\n",
       "(03) Don't know       26\n",
       "(98) Refused          26\n",
       "Name: VS0136, dtype: int64"
      ]
     },
     "execution_count": 78,
     "metadata": {},
     "output_type": "execute_result"
    },
    {
     "data": {
      "text/plain": [
       "array(['(02) No ', nan, \"(03) Don't know \", '(01) Yes ', '(08) Residue ',\n",
       "       '(98) Refused '], dtype=object)"
      ]
     },
     "execution_count": 78,
     "metadata": {},
     "output_type": "execute_result"
    }
   ],
   "source": [
    "df['VS0136'].value_counts()\n",
    "df['VS0136'].unique()\n"
   ]
  },
  {
   "cell_type": "code",
   "execution_count": 79,
   "metadata": {},
   "outputs": [
    {
     "data": {
      "text/plain": [
       "0    13931\n",
       "1      342\n",
       "Name: skip_class, dtype: int64"
      ]
     },
     "execution_count": 79,
     "metadata": {},
     "output_type": "execute_result"
    }
   ],
   "source": [
    "df['VS0136'] = np.where(df['VS0136'] =='(01) Yes ', 1, 0)\n",
    "df.rename(columns = {'VS0136':'skip_class'}, inplace= True)\n",
    "df['skip_class'].value_counts()"
   ]
  },
  {
   "cell_type": "code",
   "execution_count": 80,
   "metadata": {},
   "outputs": [
    {
     "data": {
      "text/plain": [
       "(13) $50,000 to $74,999    2402\n",
       "(15) $75,000 to $99,999    2191\n",
       "(16) $100,000-$149,999     2001\n",
       "(18) $200,000 or more      1308\n",
       "(12) $40,000 to $49,999    1278\n",
       "(17) $150,000-$199,999     1051\n",
       "(11) $35,000 to $39,999     698\n",
       "(10) $30,000 to $34,999     676\n",
       "(09) $25,000 to $29,999     529\n",
       "(08) $20,000 to $24,999     523\n",
       "(01) Less than $5,000       387\n",
       "(07) $17,500 to $19,999     286\n",
       "(04) $10,000 to $12,499     265\n",
       "(05) $12,500 to $14,999     207\n",
       "(06) $15,000 to $17,499     203\n",
       "(03) $7,500 to $9,999       158\n",
       "(02) $5,000 to $7,499       110\n",
       "Name: SC214A, dtype: int64"
      ]
     },
     "execution_count": 80,
     "metadata": {},
     "output_type": "execute_result"
    }
   ],
   "source": [
    "df['SC214A'].value_counts()"
   ]
  },
  {
   "cell_type": "code",
   "execution_count": 81,
   "metadata": {},
   "outputs": [
    {
     "data": {
      "text/plain": [
       "3    4593\n",
       "4    4360\n",
       "2    3181\n",
       "1    2139\n",
       "Name: income, dtype: int64"
      ]
     },
     "execution_count": 81,
     "metadata": {},
     "output_type": "execute_result"
    }
   ],
   "source": [
    "def income(row):\n",
    "    if row['SC214A'] == '(01) Less than $5,000' or row['SC214A'] == '(02) $5,000 to $7,499' or row['SC214A'] == '(03) $7,500 to $9,999' or row['SC214A'] == '(04) $10,000 to $12,499' or row['SC214A']=='(05) $12,500 to $14,999' or row['SC214A']=='(06) $15,000 to $17,499' or row['SC214A']== '(07) $17,500 to $19,999' or row['SC214A']=='(08) $20,000 to $24,999':\n",
    "        return 1\n",
    "    elif row['SC214A'] == '(09) $25,000 to $29,999' or  row['SC214A'] == '(10) $30,000 to $34,999' or row['SC214A'] == '(11) $35,000 to $39,999' or row['SC214A'] == '(12) $40,000 to $49,999':\n",
    "        return 2\n",
    "    elif row['SC214A'] == '(13) $50,000 to $74,999' or  row['SC214A'] == '(15) $75,000 to $99,999':\n",
    "        return 3\n",
    "    else:\n",
    "        return 4\n",
    "df['income'] = df.apply(income, axis=1)\n",
    "df['income'].value_counts()"
   ]
  },
  {
   "cell_type": "code",
   "execution_count": 82,
   "metadata": {},
   "outputs": [
    {
     "data": {
      "text/plain": [
       "array(['(01) Strongly Agree ', nan, '(02) Agree ', \"(99) Don't know \",\n",
       "       '(03) Disagree ', '(08) Residue ', '(98) Refused ',\n",
       "       '(04) Strongly Disagree '], dtype=object)"
      ]
     },
     "execution_count": 82,
     "metadata": {},
     "output_type": "execute_result"
    },
    {
     "data": {
      "text/plain": [
       "(02) Agree                 3201\n",
       "(01) Strongly Agree        2637\n",
       "(03) Disagree               164\n",
       "(98) Refused                 27\n",
       "(08) Residue                 25\n",
       "(04) Strongly Disagree       17\n",
       "(99) Don't know              14\n",
       "Name: SCS187, dtype: int64"
      ]
     },
     "execution_count": 82,
     "metadata": {},
     "output_type": "execute_result"
    }
   ],
   "source": [
    "df['SCS186'].unique()\n",
    "df['SCS187'].value_counts()"
   ]
  },
  {
   "cell_type": "code",
   "execution_count": 83,
   "metadata": {},
   "outputs": [
    {
     "data": {
      "text/plain": [
       "1.0    5873\n",
       "0.0     148\n",
       "Name: student_care, dtype: int64"
      ]
     },
     "execution_count": 83,
     "metadata": {},
     "output_type": "execute_result"
    }
   ],
   "source": [
    "def student_care(r):\n",
    "    if r['SCS186'] == '(01) Strongly Agree ' or  r['SCS186'] == '(02) Agree ' or r['SCS187'] == '(01) Strongly Agree ' or  r['SCS187'] == '(02) Agree ':\n",
    "        return 1\n",
    "    elif r['SCS186'] == '(04) Strongly Disagree ' or  r['SCS186'] == '(03) Disagree ' or r['SCS187'] == '(04) Strongly Disagree ' or  r['SCS187'] == '(03) Disagree ':\n",
    "        return 0\n",
    "    else:\n",
    "        return None\n",
    "df['student_care'] = df.apply(student_care, axis=1)\n",
    "df['student_care'].value_counts()"
   ]
  },
  {
   "cell_type": "code",
   "execution_count": 84,
   "metadata": {},
   "outputs": [
    {
     "data": {
      "text/plain": [
       "1.0    5944\n",
       "0.0      75\n",
       "Name: adult_care, dtype: int64"
      ]
     },
     "execution_count": 84,
     "metadata": {},
     "output_type": "execute_result"
    }
   ],
   "source": [
    "def adult_care(r):\n",
    "    if r['VS0146'] == '(01) Strongly Agree ' or  r['VS0146'] == '(02) Agree ' or r['VS0148'] == '(01) Strongly Agree ' or  r['VS0148'] == '(02) Agree ':\n",
    "        return 1\n",
    "    elif r['VS0146'] == '(04) Strongly Disagree ' or  r['VS0146'] == '(03) Disagree ' or r['VS0148'] == '(04) Strongly Disagree ' or  r['VS0148'] == '(03) Disagree ':\n",
    "        return 0\n",
    "    else:\n",
    "        return None\n",
    "df['adult_care'] = df.apply(adult_care, axis=1)\n",
    "df['adult_care'].value_counts()"
   ]
  },
  {
   "cell_type": "code",
   "execution_count": 85,
   "metadata": {},
   "outputs": [
    {
     "data": {
      "text/plain": [
       "array(['(1) Northeast ', nan, '(8) Residue ', '(4) West ', '(2) Midwest ',\n",
       "       '(3) South '], dtype=object)"
      ]
     },
     "execution_count": 85,
     "metadata": {},
     "output_type": "execute_result"
    },
    {
     "data": {
      "text/plain": [
       "(3) South         2260\n",
       "(2) Midwest       1657\n",
       "(4) West          1309\n",
       "(1) Northeast      617\n",
       "(8) Residue        242\n",
       "Name: SCS214, dtype: int64"
      ]
     },
     "execution_count": 85,
     "metadata": {},
     "output_type": "execute_result"
    }
   ],
   "source": [
    "df['SCS214'].unique()\n",
    "df['SCS214'].value_counts()"
   ]
  },
  {
   "cell_type": "code",
   "execution_count": 86,
   "metadata": {},
   "outputs": [],
   "source": [
    "df['region'] = df['SCS214'].map({'(1) Northeast ':1,'(2) Midwest ':2, '(3) South ':3,'(4) West ':4, '(8) Residue ':None})"
   ]
  },
  {
   "cell_type": "code",
   "execution_count": 87,
   "metadata": {},
   "outputs": [
    {
     "data": {
      "text/plain": [
       "3.0    2260\n",
       "2.0    1657\n",
       "4.0    1309\n",
       "1.0     617\n",
       "Name: region, dtype: int64"
      ]
     },
     "execution_count": 87,
     "metadata": {},
     "output_type": "execute_result"
    }
   ],
   "source": [
    "df['region'].value_counts()"
   ]
  },
  {
   "cell_type": "code",
   "execution_count": 88,
   "metadata": {},
   "outputs": [
    {
     "data": {
      "text/plain": [
       "(01) Public        5614\n",
       "(02) Private        453\n",
       "(98) Refused         15\n",
       "(99) Don't know       3\n",
       "Name: VS0019, dtype: int64"
      ]
     },
     "execution_count": 88,
     "metadata": {},
     "output_type": "execute_result"
    },
    {
     "data": {
      "text/plain": [
       "array(['(01) Public', nan, '(02) Private', '(98) Refused',\n",
       "       \"(99) Don't know\"], dtype=object)"
      ]
     },
     "execution_count": 88,
     "metadata": {},
     "output_type": "execute_result"
    },
    {
     "data": {
      "text/plain": [
       "(1)  Public school                                               5467\n",
       "(8)  Residue                                                      242\n",
       "(3)  Private, Roman Catholic school                               127\n",
       "(5)  Private, nonsectarian school                                 116\n",
       "(4)  Private, other religious school                               78\n",
       "(2)  Private school, no religious affiliation data reported        55\n",
       "Name: SCS215, dtype: int64"
      ]
     },
     "execution_count": 88,
     "metadata": {},
     "output_type": "execute_result"
    },
    {
     "data": {
      "text/plain": [
       "array(['(1)  Public school  ', nan, '(8)  Residue ',\n",
       "       '(4)  Private, other religious school  ',\n",
       "       '(5)  Private, nonsectarian school  ',\n",
       "       '(3)  Private, Roman Catholic school  ',\n",
       "       '(2)  Private school, no religious affiliation data reported  '],\n",
       "      dtype=object)"
      ]
     },
     "execution_count": 88,
     "metadata": {},
     "output_type": "execute_result"
    }
   ],
   "source": [
    "df['VS0019'].value_counts()\n",
    "df['VS0019'].unique()\n",
    "\n",
    "df['SCS215'].value_counts()\n",
    "df['SCS215'].unique()"
   ]
  },
  {
   "cell_type": "code",
   "execution_count": 89,
   "metadata": {},
   "outputs": [
    {
     "data": {
      "text/plain": [
       "1.0    5403\n",
       "2.0     489\n",
       "Name: school_type, dtype: int64"
      ]
     },
     "execution_count": 89,
     "metadata": {},
     "output_type": "execute_result"
    }
   ],
   "source": [
    "def school_type(r):\n",
    "    if r['VS0019'] == '(01) Public' and r['SCS215'] == '(1)  Public school  ':\n",
    "        return 1\n",
    "    elif r['VS0019'] == '(02) Private' or r['SCS215'] == '(4)  Private, other religious school  ' or r['SCS215'] == '(2)  Private school, no religious affiliation data reported  ' or r['SCS215'] == '(3)  Private, Roman Catholic school  ' or r['SCS215'] == '(5)  Private, nonsectarian school  ':\n",
    "        return 2\n",
    "    else:\n",
    "        return None\n",
    "df['school_type'] = df.apply(school_type, axis=1)\n",
    "df['school_type'].value_counts()"
   ]
  },
  {
   "cell_type": "code",
   "execution_count": 90,
   "metadata": {},
   "outputs": [
    {
     "data": {
      "text/plain": [
       "(01) Yes           267\n",
       "(02) No            174\n",
       "(03) Don't know     11\n",
       "(08) Residue         1\n",
       "Name: VS0021, dtype: int64"
      ]
     },
     "execution_count": 90,
     "metadata": {},
     "output_type": "execute_result"
    },
    {
     "data": {
      "text/plain": [
       "array([nan, '(01) Yes', '(02) No', \"(03) Don't know\", '(08) Residue'],\n",
       "      dtype=object)"
      ]
     },
     "execution_count": 90,
     "metadata": {},
     "output_type": "execute_result"
    }
   ],
   "source": [
    "df['VS0021'].value_counts()\n",
    "df['VS0021'].unique()\n"
   ]
  },
  {
   "cell_type": "code",
   "execution_count": 91,
   "metadata": {},
   "outputs": [],
   "source": [
    "def religion(r):\n",
    "    if r['VS0021'] == '(01) Yes' or r['SCS215'] == '(4)  Private, other religious school  ' or r['SCS215'] == '(3)  Private, Roman Catholic school  ':\n",
    "        return 1\n",
    "    else:\n",
    "        return 0\n",
    "df['religion'] = df.apply(religion, axis=1)\n"
   ]
  },
  {
   "cell_type": "code",
   "execution_count": 92,
   "metadata": {},
   "outputs": [
    {
     "data": {
      "text/plain": [
       "0    13976\n",
       "1      297\n",
       "Name: religion, dtype: int64"
      ]
     },
     "execution_count": 92,
     "metadata": {},
     "output_type": "execute_result"
    }
   ],
   "source": [
    "df['religion'].value_counts()"
   ]
  },
  {
   "cell_type": "code",
   "execution_count": 93,
   "metadata": {},
   "outputs": [
    {
     "data": {
      "text/plain": [
       "(2) Suburb      2219\n",
       "(1) City        1591\n",
       "(4) Rural       1300\n",
       "(3) Town         721\n",
       "(8) Residue      242\n",
       "(5) Missing       12\n",
       "Name: SCS216, dtype: int64"
      ]
     },
     "execution_count": 93,
     "metadata": {},
     "output_type": "execute_result"
    },
    {
     "data": {
      "text/plain": [
       "array(['(2) Suburb ', nan, '(8) Residue ', '(4) Rural ', '(1) City ',\n",
       "       '(3) Town ', '(5) Missing '], dtype=object)"
      ]
     },
     "execution_count": 93,
     "metadata": {},
     "output_type": "execute_result"
    }
   ],
   "source": [
    "df['SCS216'].value_counts()\n",
    "df['SCS216'].unique()\n"
   ]
  },
  {
   "cell_type": "code",
   "execution_count": 94,
   "metadata": {},
   "outputs": [],
   "source": [
    "def locale(r):\n",
    "    if r['SCS216'] == '(1) City ':\n",
    "        return 1\n",
    "    elif r['SCS216'] == '(2) Suburb ':\n",
    "        return 2\n",
    "    elif r['SCS216'] == '(3) Town ':\n",
    "        return 3\n",
    "    elif r['SCS216'] == '(4) Rural ':\n",
    "        return 4\n",
    "    else:\n",
    "        return None\n",
    "df['locale'] = df.apply(locale, axis=1)"
   ]
  },
  {
   "cell_type": "code",
   "execution_count": 95,
   "metadata": {},
   "outputs": [
    {
     "data": {
      "text/plain": [
       "2.0    2219\n",
       "1.0    1591\n",
       "4.0    1300\n",
       "3.0     721\n",
       "Name: locale, dtype: int64"
      ]
     },
     "execution_count": 95,
     "metadata": {},
     "output_type": "execute_result"
    }
   ],
   "source": [
    "df['locale'].value_counts()"
   ]
  },
  {
   "cell_type": "code",
   "execution_count": 96,
   "metadata": {},
   "outputs": [
    {
     "data": {
      "text/plain": [
       "array(['(6) 2,000 or more ', nan, '(3) 600-999 ', '(4) 1,000-1,499 ',\n",
       "       '(8) Residue ', '(5) 1,500-1,999 ', '(1) Less than 300 ',\n",
       "       '(2) 300-599 ', '(7) Missing '], dtype=object)"
      ]
     },
     "execution_count": 96,
     "metadata": {},
     "output_type": "execute_result"
    },
    {
     "data": {
      "text/plain": [
       "(3) 600-999           1559\n",
       "(4) 1,000-1,499       1095\n",
       "(2) 300-599           1041\n",
       "(6) 2,000 or more      799\n",
       "(5) 1,500-1,999        749\n",
       "(1) Less than 300      571\n",
       "(8) Residue            242\n",
       "(7) Missing             29\n",
       "Name: SCS218, dtype: int64"
      ]
     },
     "execution_count": 96,
     "metadata": {},
     "output_type": "execute_result"
    }
   ],
   "source": [
    "df['SCS218'].unique()\n",
    "df['SCS218'].value_counts()\n"
   ]
  },
  {
   "cell_type": "code",
   "execution_count": 97,
   "metadata": {},
   "outputs": [
    {
     "data": {
      "text/plain": [
       "1.0    1612\n",
       "2.0    1559\n",
       "4.0    1548\n",
       "3.0    1095\n",
       "Name: school_size, dtype: int64"
      ]
     },
     "execution_count": 97,
     "metadata": {},
     "output_type": "execute_result"
    }
   ],
   "source": [
    "def school_size(r):\n",
    "    if r['SCS218'] == '(1) Less than 300 ' or r['SCS218'] == '(2) 300-599 ':\n",
    "        return 1\n",
    "    elif r['SCS218'] == '(3) 600-999 ':\n",
    "        return 2\n",
    "    elif r['SCS218'] == '(4) 1,000-1,499 ':\n",
    "        return 3\n",
    "    elif r['SCS218'] == '(5) 1,500-1,999 ' or r['SCS218'] == '(6) 2,000 or more ':\n",
    "        return 4\n",
    "    else:\n",
    "        return None\n",
    "df['school_size'] = df.apply(school_size, axis=1)\n",
    "df['school_size'].value_counts()"
   ]
  },
  {
   "cell_type": "code",
   "execution_count": 98,
   "metadata": {},
   "outputs": [
    {
     "data": {
      "text/plain": [
       "array(['(01) Yes ', nan, \"(03) Don't know \", '(02) No ', '(08) Residue ',\n",
       "       '(98) Refused '], dtype=object)"
      ]
     },
     "execution_count": 98,
     "metadata": {},
     "output_type": "execute_result"
    },
    {
     "data": {
      "text/plain": [
       "array([\"(03) Don't know \", nan, '(01) Yes', '(02) No', '(08) Residue ',\n",
       "       '(98) Refused '], dtype=object)"
      ]
     },
     "execution_count": 98,
     "metadata": {},
     "output_type": "execute_result"
    }
   ],
   "source": [
    "df['VS0036'].unique()\n",
    "df['VS0043'].unique()"
   ]
  },
  {
   "cell_type": "code",
   "execution_count": 99,
   "metadata": {},
   "outputs": [
    {
     "data": {
      "text/plain": [
       "1.0    5730\n",
       "0.0     232\n",
       "Name: security, dtype: int64"
      ]
     },
     "execution_count": 99,
     "metadata": {},
     "output_type": "execute_result"
    }
   ],
   "source": [
    "def security(r):\n",
    "    if r['VS0036'] == '(01) Yes ' or r['VS0043'] == '(01) Yes':\n",
    "        return 1\n",
    "    elif r['VS0036'] == '(02) No ' or r['VS0043'] == '(02) No':\n",
    "        return 0\n",
    "    else:\n",
    "        return None\n",
    "df['security'] = df.apply(security,axis=1)\n",
    "df['security'].value_counts()"
   ]
  },
  {
   "cell_type": "code",
   "execution_count": 100,
   "metadata": {},
   "outputs": [
    {
     "data": {
      "text/plain": [
       "array(['(01) Yes ', nan, \"(03) Don't know \", '(02) No ', '(08) Residue ',\n",
       "       '(98) Refused '], dtype=object)"
      ]
     },
     "execution_count": 100,
     "metadata": {},
     "output_type": "execute_result"
    },
    {
     "data": {
      "text/plain": [
       "array([\"(03) Don't know \", nan, '(01) Yes ', '(02) No ',\n",
       "       '(04) School does not have lockers ', '(08) Residue ',\n",
       "       '(98) Refused'], dtype=object)"
      ]
     },
     "execution_count": 100,
     "metadata": {},
     "output_type": "execute_result"
    }
   ],
   "source": [
    "df['VS0037'].unique()\n",
    "df['VS0041'].unique()"
   ]
  },
  {
   "cell_type": "code",
   "execution_count": 101,
   "metadata": {},
   "outputs": [
    {
     "data": {
      "text/plain": [
       "1.0    5581\n",
       "0.0     386\n",
       "Name: supervision, dtype: int64"
      ]
     },
     "execution_count": 101,
     "metadata": {},
     "output_type": "execute_result"
    }
   ],
   "source": [
    "def supervision(r):\n",
    "    if r['VS0037']=='(01) Yes ' or r['VS0041']=='(01) Yes ':\n",
    "        return 1\n",
    "    elif r['VS0037']=='(02) No ' or r['VS0041']=='(02) No ' or  r['VS0041']=='(04) School does not have lockers' :\n",
    "        return 0\n",
    "    else:\n",
    "        return None\n",
    "df['supervision'] = df.apply(supervision, axis=1)\n",
    "df['supervision'].value_counts()"
   ]
  },
  {
   "cell_type": "code",
   "execution_count": 102,
   "metadata": {},
   "outputs": [
    {
     "data": {
      "text/plain": [
       "array(['(01) Yes', nan, \"(03) Don't know \", '(02) No', '(08) Residue ',\n",
       "       '(98) Refused '], dtype=object)"
      ]
     },
     "execution_count": 102,
     "metadata": {},
     "output_type": "execute_result"
    }
   ],
   "source": [
    "df['VS0044'].unique()"
   ]
  },
  {
   "cell_type": "code",
   "execution_count": 103,
   "metadata": {},
   "outputs": [
    {
     "data": {
      "text/plain": [
       "1.0    5697\n",
       "0.0     207\n",
       "Name: school_code, dtype: int64"
      ]
     },
     "execution_count": 103,
     "metadata": {},
     "output_type": "execute_result"
    }
   ],
   "source": [
    "def school_code(r):\n",
    "    if r['VS0044'] == '(01) Yes':\n",
    "        return 1\n",
    "    elif r['VS0044'] == '(02) No':\n",
    "        return 0\n",
    "    else:\n",
    "        return None\n",
    "df['school_code'] = df.apply(school_code, axis=1)\n",
    "df['school_code'].value_counts()"
   ]
  },
  {
   "cell_type": "code",
   "execution_count": 104,
   "metadata": {},
   "outputs": [
    {
     "data": {
      "text/plain": [
       "array(['(02) Agree ', nan, '(01) Strongly Agree ', \"(99) Don't know \",\n",
       "       '(03) Disagree ', '(04) Strongly Disagree ', '(08) Residue ',\n",
       "       '(98) Refused '], dtype=object)"
      ]
     },
     "execution_count": 104,
     "metadata": {},
     "output_type": "execute_result"
    },
    {
     "data": {
      "text/plain": [
       "array(['(02) Agree ', nan, '(01) Strongly Agree ', \"(99) Don't know \",\n",
       "       '(03) Disagree ', '(08) Residue ', '(98) Refused ',\n",
       "       '(04) Strongly Disagree '], dtype=object)"
      ]
     },
     "execution_count": 104,
     "metadata": {},
     "output_type": "execute_result"
    }
   ],
   "source": [
    "df['VS0050'].unique()\n",
    "df['VS0051'].unique()"
   ]
  },
  {
   "cell_type": "code",
   "execution_count": 105,
   "metadata": {},
   "outputs": [
    {
     "data": {
      "text/plain": [
       "0    9482\n",
       "1    4791\n",
       "Name: rule_enforced, dtype: int64"
      ]
     },
     "execution_count": 105,
     "metadata": {},
     "output_type": "execute_result"
    }
   ],
   "source": [
    "def rule_enforced(r):\n",
    "    if (r['VS0050'] == '(01) Strongly Agree ' or r['VS0050'] =='(02) Agree ') and (r['VS0051'] == '(01) Strongly Agree ' or r['VS0051'] =='(02) Agree '):\n",
    "        return 1\n",
    "    else:\n",
    "        return 0\n",
    "df['rule_enforced'] = df.apply(rule_enforced,axis=1)\n",
    "df['rule_enforced'].value_counts()"
   ]
  },
  {
   "cell_type": "code",
   "execution_count": 106,
   "metadata": {},
   "outputs": [
    {
     "data": {
      "text/plain": [
       "array(['(01) Strongly Agree ', nan, '(02) Agree ', \"(99) Don't know \",\n",
       "       '(03) Disagree ', '(04) Strongly Disagree ', '(08) Residue ',\n",
       "       '(98) Refused '], dtype=object)"
      ]
     },
     "execution_count": 106,
     "metadata": {},
     "output_type": "execute_result"
    }
   ],
   "source": [
    "df['VS0053'].unique()"
   ]
  },
  {
   "cell_type": "code",
   "execution_count": 107,
   "metadata": {},
   "outputs": [],
   "source": [
    "def respect(r):\n",
    "    if r['VS0053'] == '(01) Strongly Agree ' or r['VS0053'] == '(02) Agree ':\n",
    "        return 1\n",
    "    elif r['VS0053'] == '(04) Strongly Disagree ' or r['VS0053'] == '(03) Disagree ':\n",
    "        return 0\n",
    "    else:\n",
    "        return None"
   ]
  },
  {
   "cell_type": "code",
   "execution_count": 108,
   "metadata": {},
   "outputs": [
    {
     "data": {
      "text/plain": [
       "1.0    5640\n",
       "0.0     377\n",
       "Name: respect, dtype: int64"
      ]
     },
     "execution_count": 108,
     "metadata": {},
     "output_type": "execute_result"
    }
   ],
   "source": [
    "df['respect'] = df.apply(respect,axis=1)\n",
    "df['respect'].value_counts()"
   ]
  },
  {
   "cell_type": "code",
   "execution_count": 109,
   "metadata": {},
   "outputs": [
    {
     "data": {
      "text/plain": [
       "array(['(02) No', nan, \"(99) Don't know\", '(01) Yes', '(98) Refused',\n",
       "       '(08) Residue'], dtype=object)"
      ]
     },
     "execution_count": 109,
     "metadata": {},
     "output_type": "execute_result"
    },
    {
     "data": {
      "text/plain": [
       "array([\"(99) Don't know\", nan, '(02) No', '(01) Yes', '(98) Refused',\n",
       "       '(08) Residue'], dtype=object)"
      ]
     },
     "execution_count": 109,
     "metadata": {},
     "output_type": "execute_result"
    }
   ],
   "source": [
    "df['SCS230'].unique()\n",
    "df['SCS231'].unique()"
   ]
  },
  {
   "cell_type": "code",
   "execution_count": 110,
   "metadata": {},
   "outputs": [
    {
     "data": {
      "text/plain": [
       "0    13896\n",
       "1      377\n",
       "Name: banned_item, dtype: int64"
      ]
     },
     "execution_count": 110,
     "metadata": {},
     "output_type": "execute_result"
    }
   ],
   "source": [
    "def banned_item(r):\n",
    "    if r['SCS230'] == '(01) Yes' or ['scs231'] == '(01) Yes':\n",
    "        return 1\n",
    "    else:\n",
    "        return 0\n",
    "df['banned_item'] = df.apply(banned_item,axis=1)\n",
    "df['banned_item'].value_counts()"
   ]
  },
  {
   "cell_type": "markdown",
   "metadata": {},
   "source": [
    "# Select related columns to create a new csv file for ml model"
   ]
  },
  {
   "cell_type": "code",
   "execution_count": 111,
   "metadata": {},
   "outputs": [],
   "source": [
    "df_ml = df[['bullied','age', 'age_grouped', 'gender','sexual_orientation','race','citizen','physical_disability','learning_disability','activity','transportation','grade','skip_class','income','student_care','adult_care','region','school_type','religion','locale','school_size','security','supervision','school_code','rule_enforced','respect','banned_item' ]].copy()"
   ]
  },
  {
   "cell_type": "code",
   "execution_count": 112,
   "metadata": {},
   "outputs": [
    {
     "data": {
      "text/html": [
       "<div>\n",
       "<style scoped>\n",
       "    .dataframe tbody tr th:only-of-type {\n",
       "        vertical-align: middle;\n",
       "    }\n",
       "\n",
       "    .dataframe tbody tr th {\n",
       "        vertical-align: top;\n",
       "    }\n",
       "\n",
       "    .dataframe thead th {\n",
       "        text-align: right;\n",
       "    }\n",
       "</style>\n",
       "<table border=\"1\" class=\"dataframe\">\n",
       "  <thead>\n",
       "    <tr style=\"text-align: right;\">\n",
       "      <th></th>\n",
       "      <th>bullied</th>\n",
       "      <th>age</th>\n",
       "      <th>age_grouped</th>\n",
       "      <th>gender</th>\n",
       "      <th>sexual_orientation</th>\n",
       "      <th>race</th>\n",
       "      <th>citizen</th>\n",
       "      <th>physical_disability</th>\n",
       "      <th>learning_disability</th>\n",
       "      <th>activity</th>\n",
       "      <th>...</th>\n",
       "      <th>school_type</th>\n",
       "      <th>religion</th>\n",
       "      <th>locale</th>\n",
       "      <th>school_size</th>\n",
       "      <th>security</th>\n",
       "      <th>supervision</th>\n",
       "      <th>school_code</th>\n",
       "      <th>rule_enforced</th>\n",
       "      <th>respect</th>\n",
       "      <th>banned_item</th>\n",
       "    </tr>\n",
       "  </thead>\n",
       "  <tbody>\n",
       "    <tr>\n",
       "      <th>0</th>\n",
       "      <td>0</td>\n",
       "      <td>15</td>\n",
       "      <td>2</td>\n",
       "      <td>1.0</td>\n",
       "      <td>1</td>\n",
       "      <td>2</td>\n",
       "      <td>1</td>\n",
       "      <td>0</td>\n",
       "      <td>1</td>\n",
       "      <td>0</td>\n",
       "      <td>...</td>\n",
       "      <td>1.0</td>\n",
       "      <td>0</td>\n",
       "      <td>2.0</td>\n",
       "      <td>4.0</td>\n",
       "      <td>1.0</td>\n",
       "      <td>1.0</td>\n",
       "      <td>1.0</td>\n",
       "      <td>1</td>\n",
       "      <td>1.0</td>\n",
       "      <td>0</td>\n",
       "    </tr>\n",
       "    <tr>\n",
       "      <th>1</th>\n",
       "      <td>0</td>\n",
       "      <td>12</td>\n",
       "      <td>1</td>\n",
       "      <td>0.0</td>\n",
       "      <td>1</td>\n",
       "      <td>2</td>\n",
       "      <td>1</td>\n",
       "      <td>0</td>\n",
       "      <td>0</td>\n",
       "      <td>0</td>\n",
       "      <td>...</td>\n",
       "      <td>NaN</td>\n",
       "      <td>0</td>\n",
       "      <td>NaN</td>\n",
       "      <td>NaN</td>\n",
       "      <td>NaN</td>\n",
       "      <td>NaN</td>\n",
       "      <td>NaN</td>\n",
       "      <td>0</td>\n",
       "      <td>NaN</td>\n",
       "      <td>0</td>\n",
       "    </tr>\n",
       "    <tr>\n",
       "      <th>2</th>\n",
       "      <td>0</td>\n",
       "      <td>12</td>\n",
       "      <td>1</td>\n",
       "      <td>1.0</td>\n",
       "      <td>1</td>\n",
       "      <td>2</td>\n",
       "      <td>1</td>\n",
       "      <td>0</td>\n",
       "      <td>0</td>\n",
       "      <td>0</td>\n",
       "      <td>...</td>\n",
       "      <td>1.0</td>\n",
       "      <td>0</td>\n",
       "      <td>2.0</td>\n",
       "      <td>2.0</td>\n",
       "      <td>1.0</td>\n",
       "      <td>1.0</td>\n",
       "      <td>1.0</td>\n",
       "      <td>1</td>\n",
       "      <td>1.0</td>\n",
       "      <td>0</td>\n",
       "    </tr>\n",
       "    <tr>\n",
       "      <th>3</th>\n",
       "      <td>0</td>\n",
       "      <td>12</td>\n",
       "      <td>1</td>\n",
       "      <td>1.0</td>\n",
       "      <td>1</td>\n",
       "      <td>2</td>\n",
       "      <td>1</td>\n",
       "      <td>0</td>\n",
       "      <td>0</td>\n",
       "      <td>1</td>\n",
       "      <td>...</td>\n",
       "      <td>1.0</td>\n",
       "      <td>0</td>\n",
       "      <td>2.0</td>\n",
       "      <td>3.0</td>\n",
       "      <td>1.0</td>\n",
       "      <td>1.0</td>\n",
       "      <td>1.0</td>\n",
       "      <td>1</td>\n",
       "      <td>1.0</td>\n",
       "      <td>0</td>\n",
       "    </tr>\n",
       "    <tr>\n",
       "      <th>4</th>\n",
       "      <td>0</td>\n",
       "      <td>14</td>\n",
       "      <td>1</td>\n",
       "      <td>1.0</td>\n",
       "      <td>1</td>\n",
       "      <td>1</td>\n",
       "      <td>1</td>\n",
       "      <td>0</td>\n",
       "      <td>0</td>\n",
       "      <td>0</td>\n",
       "      <td>...</td>\n",
       "      <td>NaN</td>\n",
       "      <td>0</td>\n",
       "      <td>NaN</td>\n",
       "      <td>NaN</td>\n",
       "      <td>NaN</td>\n",
       "      <td>NaN</td>\n",
       "      <td>NaN</td>\n",
       "      <td>0</td>\n",
       "      <td>NaN</td>\n",
       "      <td>0</td>\n",
       "    </tr>\n",
       "  </tbody>\n",
       "</table>\n",
       "<p>5 rows × 27 columns</p>\n",
       "</div>"
      ],
      "text/plain": [
       "   bullied  age  age_grouped  gender  sexual_orientation  race  citizen  \\\n",
       "0        0   15            2     1.0                   1     2        1   \n",
       "1        0   12            1     0.0                   1     2        1   \n",
       "2        0   12            1     1.0                   1     2        1   \n",
       "3        0   12            1     1.0                   1     2        1   \n",
       "4        0   14            1     1.0                   1     1        1   \n",
       "\n",
       "   physical_disability  learning_disability  activity  ...  school_type  \\\n",
       "0                    0                    1         0  ...          1.0   \n",
       "1                    0                    0         0  ...          NaN   \n",
       "2                    0                    0         0  ...          1.0   \n",
       "3                    0                    0         1  ...          1.0   \n",
       "4                    0                    0         0  ...          NaN   \n",
       "\n",
       "   religion  locale  school_size  security  supervision  school_code  \\\n",
       "0         0     2.0          4.0       1.0          1.0          1.0   \n",
       "1         0     NaN          NaN       NaN          NaN          NaN   \n",
       "2         0     2.0          2.0       1.0          1.0          1.0   \n",
       "3         0     2.0          3.0       1.0          1.0          1.0   \n",
       "4         0     NaN          NaN       NaN          NaN          NaN   \n",
       "\n",
       "   rule_enforced  respect  banned_item  \n",
       "0              1      1.0            0  \n",
       "1              0      NaN            0  \n",
       "2              1      1.0            0  \n",
       "3              1      1.0            0  \n",
       "4              0      NaN            0  \n",
       "\n",
       "[5 rows x 27 columns]"
      ]
     },
     "execution_count": 112,
     "metadata": {},
     "output_type": "execute_result"
    }
   ],
   "source": [
    "df_ml.head()"
   ]
  },
  {
   "cell_type": "code",
   "execution_count": 113,
   "metadata": {},
   "outputs": [
    {
     "data": {
      "text/plain": [
       "Index(['bullied', 'age', 'age_grouped', 'gender', 'sexual_orientation', 'race',\n",
       "       'citizen', 'physical_disability', 'learning_disability', 'activity',\n",
       "       'transportation', 'grade', 'skip_class', 'income', 'student_care',\n",
       "       'adult_care', 'region', 'school_type', 'religion', 'locale',\n",
       "       'school_size', 'security', 'supervision', 'school_code',\n",
       "       'rule_enforced', 'respect', 'banned_item'],\n",
       "      dtype='object')"
      ]
     },
     "execution_count": 113,
     "metadata": {},
     "output_type": "execute_result"
    }
   ],
   "source": [
    "df_ml.columns"
   ]
  },
  {
   "cell_type": "code",
   "execution_count": 114,
   "metadata": {},
   "outputs": [
    {
     "data": {
      "text/plain": [
       "(14273, 27)"
      ]
     },
     "execution_count": 114,
     "metadata": {},
     "output_type": "execute_result"
    }
   ],
   "source": [
    "df_ml.shape"
   ]
  },
  {
   "cell_type": "markdown",
   "metadata": {},
   "source": [
    "# Clean the df_ML data"
   ]
  },
  {
   "cell_type": "code",
   "execution_count": 115,
   "metadata": {},
   "outputs": [
    {
     "data": {
      "text/plain": [
       "<Axes: >"
      ]
     },
     "execution_count": 115,
     "metadata": {},
     "output_type": "execute_result"
    },
    {
     "data": {
      "image/png": "[encoded data removed]",
      "text/plain": [
       "<Figure size 640x480 with 1 Axes>"
      ]
     },
     "metadata": {},
     "output_type": "display_data"
    }
   ],
   "source": [
    "sns.heatmap(df_ml.isnull(), cbar=False)\n",
    "plt.show()"
   ]
  },
  {
   "cell_type": "code",
   "execution_count": 116,
   "metadata": {},
   "outputs": [
    {
     "data": {
      "text/html": [
       "<div>\n",
       "<style scoped>\n",
       "    .dataframe tbody tr th:only-of-type {\n",
       "        vertical-align: middle;\n",
       "    }\n",
       "\n",
       "    .dataframe tbody tr th {\n",
       "        vertical-align: top;\n",
       "    }\n",
       "\n",
       "    .dataframe thead th {\n",
       "        text-align: right;\n",
       "    }\n",
       "</style>\n",
       "<table border=\"1\" class=\"dataframe\">\n",
       "  <thead>\n",
       "    <tr style=\"text-align: right;\">\n",
       "      <th></th>\n",
       "      <th>bullied</th>\n",
       "      <th>age</th>\n",
       "      <th>age_grouped</th>\n",
       "      <th>gender</th>\n",
       "      <th>sexual_orientation</th>\n",
       "      <th>race</th>\n",
       "      <th>citizen</th>\n",
       "      <th>physical_disability</th>\n",
       "      <th>learning_disability</th>\n",
       "      <th>activity</th>\n",
       "      <th>...</th>\n",
       "      <th>school_type</th>\n",
       "      <th>religion</th>\n",
       "      <th>locale</th>\n",
       "      <th>school_size</th>\n",
       "      <th>security</th>\n",
       "      <th>supervision</th>\n",
       "      <th>school_code</th>\n",
       "      <th>rule_enforced</th>\n",
       "      <th>respect</th>\n",
       "      <th>banned_item</th>\n",
       "    </tr>\n",
       "  </thead>\n",
       "  <tbody>\n",
       "    <tr>\n",
       "      <th>0</th>\n",
       "      <td>0</td>\n",
       "      <td>15</td>\n",
       "      <td>2</td>\n",
       "      <td>1.0</td>\n",
       "      <td>1</td>\n",
       "      <td>2</td>\n",
       "      <td>1</td>\n",
       "      <td>0</td>\n",
       "      <td>1</td>\n",
       "      <td>0</td>\n",
       "      <td>...</td>\n",
       "      <td>1.0</td>\n",
       "      <td>0</td>\n",
       "      <td>2.0</td>\n",
       "      <td>4.0</td>\n",
       "      <td>1.0</td>\n",
       "      <td>1.0</td>\n",
       "      <td>1.0</td>\n",
       "      <td>1</td>\n",
       "      <td>1.0</td>\n",
       "      <td>0</td>\n",
       "    </tr>\n",
       "    <tr>\n",
       "      <th>2</th>\n",
       "      <td>0</td>\n",
       "      <td>12</td>\n",
       "      <td>1</td>\n",
       "      <td>1.0</td>\n",
       "      <td>1</td>\n",
       "      <td>2</td>\n",
       "      <td>1</td>\n",
       "      <td>0</td>\n",
       "      <td>0</td>\n",
       "      <td>0</td>\n",
       "      <td>...</td>\n",
       "      <td>1.0</td>\n",
       "      <td>0</td>\n",
       "      <td>2.0</td>\n",
       "      <td>2.0</td>\n",
       "      <td>1.0</td>\n",
       "      <td>1.0</td>\n",
       "      <td>1.0</td>\n",
       "      <td>1</td>\n",
       "      <td>1.0</td>\n",
       "      <td>0</td>\n",
       "    </tr>\n",
       "    <tr>\n",
       "      <th>3</th>\n",
       "      <td>0</td>\n",
       "      <td>12</td>\n",
       "      <td>1</td>\n",
       "      <td>1.0</td>\n",
       "      <td>1</td>\n",
       "      <td>2</td>\n",
       "      <td>1</td>\n",
       "      <td>0</td>\n",
       "      <td>0</td>\n",
       "      <td>1</td>\n",
       "      <td>...</td>\n",
       "      <td>1.0</td>\n",
       "      <td>0</td>\n",
       "      <td>2.0</td>\n",
       "      <td>3.0</td>\n",
       "      <td>1.0</td>\n",
       "      <td>1.0</td>\n",
       "      <td>1.0</td>\n",
       "      <td>1</td>\n",
       "      <td>1.0</td>\n",
       "      <td>0</td>\n",
       "    </tr>\n",
       "    <tr>\n",
       "      <th>8</th>\n",
       "      <td>1</td>\n",
       "      <td>16</td>\n",
       "      <td>2</td>\n",
       "      <td>0.0</td>\n",
       "      <td>3</td>\n",
       "      <td>3</td>\n",
       "      <td>1</td>\n",
       "      <td>0</td>\n",
       "      <td>0</td>\n",
       "      <td>1</td>\n",
       "      <td>...</td>\n",
       "      <td>1.0</td>\n",
       "      <td>0</td>\n",
       "      <td>2.0</td>\n",
       "      <td>3.0</td>\n",
       "      <td>1.0</td>\n",
       "      <td>1.0</td>\n",
       "      <td>1.0</td>\n",
       "      <td>1</td>\n",
       "      <td>1.0</td>\n",
       "      <td>0</td>\n",
       "    </tr>\n",
       "    <tr>\n",
       "      <th>13</th>\n",
       "      <td>0</td>\n",
       "      <td>12</td>\n",
       "      <td>1</td>\n",
       "      <td>0.0</td>\n",
       "      <td>1</td>\n",
       "      <td>2</td>\n",
       "      <td>1</td>\n",
       "      <td>0</td>\n",
       "      <td>0</td>\n",
       "      <td>0</td>\n",
       "      <td>...</td>\n",
       "      <td>1.0</td>\n",
       "      <td>0</td>\n",
       "      <td>4.0</td>\n",
       "      <td>3.0</td>\n",
       "      <td>1.0</td>\n",
       "      <td>1.0</td>\n",
       "      <td>1.0</td>\n",
       "      <td>1</td>\n",
       "      <td>1.0</td>\n",
       "      <td>0</td>\n",
       "    </tr>\n",
       "    <tr>\n",
       "      <th>...</th>\n",
       "      <td>...</td>\n",
       "      <td>...</td>\n",
       "      <td>...</td>\n",
       "      <td>...</td>\n",
       "      <td>...</td>\n",
       "      <td>...</td>\n",
       "      <td>...</td>\n",
       "      <td>...</td>\n",
       "      <td>...</td>\n",
       "      <td>...</td>\n",
       "      <td>...</td>\n",
       "      <td>...</td>\n",
       "      <td>...</td>\n",
       "      <td>...</td>\n",
       "      <td>...</td>\n",
       "      <td>...</td>\n",
       "      <td>...</td>\n",
       "      <td>...</td>\n",
       "      <td>...</td>\n",
       "      <td>...</td>\n",
       "      <td>...</td>\n",
       "    </tr>\n",
       "    <tr>\n",
       "      <th>14247</th>\n",
       "      <td>1</td>\n",
       "      <td>12</td>\n",
       "      <td>1</td>\n",
       "      <td>0.0</td>\n",
       "      <td>1</td>\n",
       "      <td>2</td>\n",
       "      <td>1</td>\n",
       "      <td>0</td>\n",
       "      <td>0</td>\n",
       "      <td>1</td>\n",
       "      <td>...</td>\n",
       "      <td>1.0</td>\n",
       "      <td>0</td>\n",
       "      <td>4.0</td>\n",
       "      <td>3.0</td>\n",
       "      <td>1.0</td>\n",
       "      <td>0.0</td>\n",
       "      <td>1.0</td>\n",
       "      <td>1</td>\n",
       "      <td>1.0</td>\n",
       "      <td>0</td>\n",
       "    </tr>\n",
       "    <tr>\n",
       "      <th>14256</th>\n",
       "      <td>1</td>\n",
       "      <td>13</td>\n",
       "      <td>1</td>\n",
       "      <td>0.0</td>\n",
       "      <td>1</td>\n",
       "      <td>4</td>\n",
       "      <td>1</td>\n",
       "      <td>0</td>\n",
       "      <td>0</td>\n",
       "      <td>0</td>\n",
       "      <td>...</td>\n",
       "      <td>1.0</td>\n",
       "      <td>0</td>\n",
       "      <td>1.0</td>\n",
       "      <td>3.0</td>\n",
       "      <td>1.0</td>\n",
       "      <td>1.0</td>\n",
       "      <td>1.0</td>\n",
       "      <td>1</td>\n",
       "      <td>1.0</td>\n",
       "      <td>1</td>\n",
       "    </tr>\n",
       "    <tr>\n",
       "      <th>14267</th>\n",
       "      <td>1</td>\n",
       "      <td>12</td>\n",
       "      <td>1</td>\n",
       "      <td>1.0</td>\n",
       "      <td>1</td>\n",
       "      <td>3</td>\n",
       "      <td>1</td>\n",
       "      <td>0</td>\n",
       "      <td>0</td>\n",
       "      <td>0</td>\n",
       "      <td>...</td>\n",
       "      <td>1.0</td>\n",
       "      <td>0</td>\n",
       "      <td>1.0</td>\n",
       "      <td>2.0</td>\n",
       "      <td>1.0</td>\n",
       "      <td>1.0</td>\n",
       "      <td>1.0</td>\n",
       "      <td>1</td>\n",
       "      <td>1.0</td>\n",
       "      <td>0</td>\n",
       "    </tr>\n",
       "    <tr>\n",
       "      <th>14271</th>\n",
       "      <td>0</td>\n",
       "      <td>16</td>\n",
       "      <td>2</td>\n",
       "      <td>0.0</td>\n",
       "      <td>1</td>\n",
       "      <td>4</td>\n",
       "      <td>1</td>\n",
       "      <td>0</td>\n",
       "      <td>0</td>\n",
       "      <td>0</td>\n",
       "      <td>...</td>\n",
       "      <td>2.0</td>\n",
       "      <td>1</td>\n",
       "      <td>1.0</td>\n",
       "      <td>2.0</td>\n",
       "      <td>1.0</td>\n",
       "      <td>0.0</td>\n",
       "      <td>1.0</td>\n",
       "      <td>1</td>\n",
       "      <td>1.0</td>\n",
       "      <td>0</td>\n",
       "    </tr>\n",
       "    <tr>\n",
       "      <th>14272</th>\n",
       "      <td>1</td>\n",
       "      <td>12</td>\n",
       "      <td>1</td>\n",
       "      <td>0.0</td>\n",
       "      <td>1</td>\n",
       "      <td>2</td>\n",
       "      <td>1</td>\n",
       "      <td>0</td>\n",
       "      <td>0</td>\n",
       "      <td>1</td>\n",
       "      <td>...</td>\n",
       "      <td>1.0</td>\n",
       "      <td>0</td>\n",
       "      <td>4.0</td>\n",
       "      <td>1.0</td>\n",
       "      <td>1.0</td>\n",
       "      <td>1.0</td>\n",
       "      <td>1.0</td>\n",
       "      <td>1</td>\n",
       "      <td>1.0</td>\n",
       "      <td>0</td>\n",
       "    </tr>\n",
       "  </tbody>\n",
       "</table>\n",
       "<p>5469 rows × 27 columns</p>\n",
       "</div>"
      ],
      "text/plain": [
       "       bullied  age  age_grouped  gender  sexual_orientation  race  citizen  \\\n",
       "0            0   15            2     1.0                   1     2        1   \n",
       "2            0   12            1     1.0                   1     2        1   \n",
       "3            0   12            1     1.0                   1     2        1   \n",
       "8            1   16            2     0.0                   3     3        1   \n",
       "13           0   12            1     0.0                   1     2        1   \n",
       "...        ...  ...          ...     ...                 ...   ...      ...   \n",
       "14247        1   12            1     0.0                   1     2        1   \n",
       "14256        1   13            1     0.0                   1     4        1   \n",
       "14267        1   12            1     1.0                   1     3        1   \n",
       "14271        0   16            2     0.0                   1     4        1   \n",
       "14272        1   12            1     0.0                   1     2        1   \n",
       "\n",
       "       physical_disability  learning_disability  activity  ...  school_type  \\\n",
       "0                        0                    1         0  ...          1.0   \n",
       "2                        0                    0         0  ...          1.0   \n",
       "3                        0                    0         1  ...          1.0   \n",
       "8                        0                    0         1  ...          1.0   \n",
       "13                       0                    0         0  ...          1.0   \n",
       "...                    ...                  ...       ...  ...          ...   \n",
       "14247                    0                    0         1  ...          1.0   \n",
       "14256                    0                    0         0  ...          1.0   \n",
       "14267                    0                    0         0  ...          1.0   \n",
       "14271                    0                    0         0  ...          2.0   \n",
       "14272                    0                    0         1  ...          1.0   \n",
       "\n",
       "       religion  locale  school_size  security  supervision  school_code  \\\n",
       "0             0     2.0          4.0       1.0          1.0          1.0   \n",
       "2             0     2.0          2.0       1.0          1.0          1.0   \n",
       "3             0     2.0          3.0       1.0          1.0          1.0   \n",
       "8             0     2.0          3.0       1.0          1.0          1.0   \n",
       "13            0     4.0          3.0       1.0          1.0          1.0   \n",
       "...         ...     ...          ...       ...          ...          ...   \n",
       "14247         0     4.0          3.0       1.0          0.0          1.0   \n",
       "14256         0     1.0          3.0       1.0          1.0          1.0   \n",
       "14267         0     1.0          2.0       1.0          1.0          1.0   \n",
       "14271         1     1.0          2.0       1.0          0.0          1.0   \n",
       "14272         0     4.0          1.0       1.0          1.0          1.0   \n",
       "\n",
       "       rule_enforced  respect  banned_item  \n",
       "0                  1      1.0            0  \n",
       "2                  1      1.0            0  \n",
       "3                  1      1.0            0  \n",
       "8                  1      1.0            0  \n",
       "13                 1      1.0            0  \n",
       "...              ...      ...          ...  \n",
       "14247              1      1.0            0  \n",
       "14256              1      1.0            1  \n",
       "14267              1      1.0            0  \n",
       "14271              1      1.0            0  \n",
       "14272              1      1.0            0  \n",
       "\n",
       "[5469 rows x 27 columns]"
      ]
     },
     "execution_count": 116,
     "metadata": {},
     "output_type": "execute_result"
    }
   ],
   "source": [
    "df_dropna = df_ml.copy()\n",
    "df_dropna.dropna(inplace=True)\n",
    "df_dropna"
   ]
  },
  {
   "cell_type": "code",
   "execution_count": 117,
   "metadata": {},
   "outputs": [
    {
     "data": {
      "text/plain": [
       "bullied                   0\n",
       "age                       0\n",
       "age_grouped               0\n",
       "gender                    0\n",
       "sexual_orientation        0\n",
       "race                      0\n",
       "citizen                   0\n",
       "physical_disability       0\n",
       "learning_disability       0\n",
       "activity                  0\n",
       "transportation         8226\n",
       "grade                  8315\n",
       "skip_class                0\n",
       "income                    0\n",
       "student_care           8246\n",
       "adult_care             8248\n",
       "region                 8424\n",
       "school_type            8375\n",
       "religion                  0\n",
       "locale                 8436\n",
       "school_size            8453\n",
       "security               8305\n",
       "supervision            8300\n",
       "school_code            8363\n",
       "rule_enforced             0\n",
       "respect                8250\n",
       "banned_item               0\n",
       "dtype: int64"
      ]
     },
     "execution_count": 117,
     "metadata": {},
     "output_type": "execute_result"
    }
   ],
   "source": [
    "df_ml.dropna(subset=['gender'], inplace=True)\n",
    "df_ml['gender'] = df_ml['gender']\n",
    "df_ml.isnull().sum()"
   ]
  },
  {
   "cell_type": "code",
   "execution_count": 118,
   "metadata": {},
   "outputs": [
    {
     "data": {
      "text/plain": [
       "(14267, 27)"
      ]
     },
     "execution_count": 118,
     "metadata": {},
     "output_type": "execute_result"
    }
   ],
   "source": [
    "df_ml.shape"
   ]
  },
  {
   "cell_type": "code",
   "execution_count": 123,
   "metadata": {},
   "outputs": [
    {
     "data": {
      "text/plain": [
       "(5469, 27)"
      ]
     },
     "execution_count": 123,
     "metadata": {},
     "output_type": "execute_result"
    }
   ],
   "source": [
    "df_ml.dropna(inplace=True)\n",
    "df_ml.shape"
   ]
  },
  {
   "cell_type": "code",
   "execution_count": 124,
   "metadata": {},
   "outputs": [
    {
     "data": {
      "text/plain": [
       "bullied                  int64\n",
       "age                      int64\n",
       "age_grouped              int64\n",
       "gender                 float64\n",
       "sexual_orientation       int64\n",
       "race                     int64\n",
       "citizen                  int64\n",
       "physical_disability      int64\n",
       "learning_disability      int64\n",
       "activity                 int64\n",
       "transportation         float64\n",
       "grade                  float64\n",
       "skip_class               int64\n",
       "income                   int64\n",
       "student_care           float64\n",
       "adult_care             float64\n",
       "region                 float64\n",
       "school_type            float64\n",
       "religion                 int64\n",
       "locale                 float64\n",
       "school_size            float64\n",
       "security               float64\n",
       "supervision            float64\n",
       "school_code            float64\n",
       "rule_enforced            int64\n",
       "respect                float64\n",
       "banned_item              int64\n",
       "dtype: object"
      ]
     },
     "execution_count": 124,
     "metadata": {},
     "output_type": "execute_result"
    }
   ],
   "source": [
    "df_ml.dtypes"
   ]
  },
  {
   "cell_type": "code",
   "execution_count": 125,
   "metadata": {},
   "outputs": [
    {
     "data": {
      "text/plain": [
       "Index(['bullied', 'age', 'age_grouped', 'gender', 'sexual_orientation', 'race',\n",
       "       'citizen', 'physical_disability', 'learning_disability', 'activity',\n",
       "       'transportation', 'grade', 'skip_class', 'income', 'student_care',\n",
       "       'adult_care', 'region', 'school_type', 'religion', 'locale',\n",
       "       'school_size', 'security', 'supervision', 'school_code',\n",
       "       'rule_enforced', 'respect', 'banned_item'],\n",
       "      dtype='object')"
      ]
     },
     "execution_count": 125,
     "metadata": {},
     "output_type": "execute_result"
    }
   ],
   "source": [
    "df_ml.columns"
   ]
  },
  {
   "cell_type": "code",
   "execution_count": 126,
   "metadata": {},
   "outputs": [],
   "source": [
    "df_ml.to_csv('/Users/charlottewang/Desktop/code/df_ml.csv', index=0)"
   ]
  }
 ],
 "metadata": {
  "kernelspec": {
   "display_name": "Python 3 (ipykernel)",
   "language": "python",
   "name": "python3"
  },
  "language_info": {
   "codemirror_mode": {
    "name": "ipython",
    "version": 3
   },
   "file_extension": ".py",
   "mimetype": "text/x-python",
   "name": "python",
   "nbconvert_exporter": "python",
   "pygments_lexer": "ipython3",
   "version": "3.9.18"
  }
 },
 "nbformat": 4,
 "nbformat_minor": 2
}
